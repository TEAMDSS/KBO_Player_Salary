{
 "cells": [
  {
   "cell_type": "code",
   "execution_count": 1,
   "metadata": {
    "collapsed": true
   },
   "outputs": [],
   "source": [
    "# import package\n",
    "import pandas as pd\n",
    "import time\n",
    "import pickle\n",
    "from selenium import webdriver\n",
    "import glob\n",
    "import os\n",
    "import csv"
   ]
  },
  {
   "cell_type": "code",
   "execution_count": 2,
   "metadata": {
    "collapsed": true
   },
   "outputs": [],
   "source": [
    "api_delay_term = 5"
   ]
  },
  {
   "cell_type": "code",
   "execution_count": 6,
   "metadata": {
    "collapsed": true
   },
   "outputs": [],
   "source": [
    "# save player url\n",
    "def get_players_url(season_id, team_id):\n",
    "    # connect url\n",
    "    url = \"http://www.koreabaseball.com/Record/Player/HitterBasic/Basic1.aspx\"\n",
    "    driver = webdriver.Firefox()\n",
    "    driver.get(url)\n",
    "    \n",
    "    # click season\n",
    "    driver.find_element_by_css_selector('#cphContainer_cphContents_ddlSeason_ddlSeason').\\\n",
    "                find_elements_by_css_selector('option')[season_id].click()\n",
    "    time.sleep(api_delay_term)\n",
    "    \n",
    "    # click team\n",
    "    driver.find_element_by_css_selector('#cphContainer_cphContents_ddlTeam_ddlTeam').\\\n",
    "                find_elements_by_css_selector('option')[team_id].click()\n",
    "    time.sleep(api_delay_term)\n",
    "    \n",
    "    # get page number\n",
    "    page_elements = driver.find_elements_by_css_selector(\".paging02 a\")\n",
    "    page_number = len(page_elements)\n",
    "    if page_number == 1:\n",
    "        page_number = page_number\n",
    "    \n",
    "    if page_number > 1:\n",
    "        page_number = page_number -2\n",
    "    \n",
    "    # make empty dataframe\n",
    "    url_df = pd.DataFrame(columns=['url'])\n",
    "    \n",
    "    # if having one page\n",
    "    if page_number == 1:\n",
    "        elements = driver.find_elements_by_css_selector(\".record_result tr\")\n",
    "        elements = elements[1:len(elements)+1]\n",
    "    \n",
    "        for element in elements:\n",
    "            tmp_dict = {\n",
    "                \"url\" : element.find_element_by_css_selector(\"a\").get_attribute(\"href\")\n",
    "                }\n",
    "            url_df.loc[len(url_df)] = tmp_dict\n",
    "            \n",
    "    # if having other more pages\n",
    "    if page_number > 1:\n",
    "        for page in range(1, page_number+1):\n",
    "            driver.find_element_by_css_selector('#cphContainer_cphContents_ucPager_btnNo' + str(page)).click()\n",
    "            time.sleep(api_delay_term)\n",
    "            \n",
    "            elements = driver.find_elements_by_css_selector(\".record_result tr\")\n",
    "            elements = elements[1:len(elements)+1]\n",
    "            \n",
    "            for element in elements:\n",
    "                tmp_dict = {\n",
    "                    \"url\" : element.find_element_by_css_selector(\"a\").get_attribute(\"href\")\n",
    "                    }\n",
    "                url_df.loc[len(url_df)] = tmp_dict        \n",
    "    return url_df\n"
   ]
  },
  {
   "cell_type": "code",
   "execution_count": 7,
   "metadata": {
    "collapsed": true
   },
   "outputs": [],
   "source": [
    "def crawling_player_info(season_id, team_id):\n",
    "    # get each player's url\n",
    "    url_df = get_players_url(season_id, team_id)\n",
    "    \n",
    "    # drop the retired players\n",
    "    is_retired = url_df['url'].str.contains(\"Retire\") == True\n",
    "    url_df = url_df.drop(url_df.index[is_retired]).reset_index()\n",
    "    print(\"get url_df successfully\")\n",
    "    \n",
    "    # make empty dataframe\n",
    "    player_info_df = pd.DataFrame(columns=[\n",
    "                    \"p_number\", \"name\", \"salary\"\n",
    "            ])\n",
    "    driver1 = webdriver.Firefox()\n",
    "    \n",
    "    # connect each url & scrap player info\n",
    "    for number in range(0, len(url_df)):\n",
    "        player_url = url_df['url'][number]\n",
    "        driver1.get(player_url)\n",
    "        time.sleep(api_delay_term)\n",
    "        \n",
    "        player_info = driver1.find_elements_by_css_selector(\".player_basic ul li\")\n",
    "\n",
    "        tmp_dict = {\n",
    "                    \"p_number\" : player_url.split(\"=\")[1],\n",
    "                    \"name\" : player_info[0].text.split(\": \")[1],\n",
    "                    \"salary\" : player_info[7].text.split(\": \")[1],\n",
    "                    }\n",
    "        player_info_df.loc[len(player_info_df)] = tmp_dict\n",
    "   \n",
    "    return player_info_df"
   ]
  },
  {
   "cell_type": "code",
   "execution_count": 8,
   "metadata": {
    "collapsed": false
   },
   "outputs": [
    {
     "name": "stdout",
     "output_type": "stream",
     "text": [
      "get url_df successfully\n"
     ]
    }
   ],
   "source": [
    "nexen_hsalary_df = crawling_player_info(33,1)"
   ]
  },
  {
   "cell_type": "code",
   "execution_count": 9,
   "metadata": {
    "collapsed": true
   },
   "outputs": [],
   "source": [
    "nexen_hsalary_df.to_csv(\"nexen_hsalary.csv\",encoding='utf-8')"
   ]
  },
  {
   "cell_type": "code",
   "execution_count": 10,
   "metadata": {
    "collapsed": false
   },
   "outputs": [
    {
     "name": "stdout",
     "output_type": "stream",
     "text": [
      "get url_df successfully\n",
      "get url_df successfully\n",
      "get url_df successfully\n",
      "get url_df successfully\n",
      "get url_df successfully\n",
      "get url_df successfully\n",
      "get url_df successfully\n",
      "get url_df successfully\n",
      "get url_df successfully\n"
     ]
    },
    {
     "data": {
      "text/plain": [
       "1981.678078174591"
      ]
     },
     "execution_count": 10,
     "metadata": {},
     "output_type": "execute_result"
    }
   ],
   "source": [
    "start_time = time.time()\n",
    "doosan_hsalary_df = crawling_player_info(33,2)\n",
    "lotte_hsalary_df = crawling_player_info(33,3)\n",
    "samsung_hsalary_df = crawling_player_info(33,4)\n",
    "hanhwa_hsalary_df = crawling_player_info(33,5)\n",
    "KIA_hsalary_df = crawling_player_info(33,6)\n",
    "KT_hsalary_df = crawling_player_info(33,7)\n",
    "LG_hsalary_df = crawling_player_info(33,8)\n",
    "NC_hsalary_df = crawling_player_info(33,9)\n",
    "SK_hsalary_df = crawling_player_info(33,10)\n",
    "end_time = time.time()\n",
    "\n",
    "end_time-start_time"
   ]
  },
  {
   "cell_type": "code",
   "execution_count": 11,
   "metadata": {
    "collapsed": false
   },
   "outputs": [],
   "source": [
    "doosan_hsalary_df.to_csv(\"doosan_hsalary.csv\",encoding='utf-8')\n",
    "lotte_hsalary_df.to_csv(\"lotte_hsalary.csv\",encoding='utf-8')\n",
    "samsung_hsalary_df.to_csv(\"samsung_hsalary.csv\",encoding='utf-8')\n",
    "hanhwa_hsalary_df.to_csv(\"hanhwa_hsalary.csv\",encoding='utf-8')\n",
    "KIA_hsalary_df.to_csv(\"KIA_hsalary.csv\",encoding='utf-8')\n",
    "KT_hsalary_df.to_csv(\"KT_hsalary.csv\",encoding='utf-8')\n",
    "LG_hsalary_df.to_csv(\"LG_hsalary.csv\",encoding='utf-8')\n",
    "NC_hsalary_df.to_csv(\"NC_hsalary.csv\",encoding='utf-8')\n",
    "SK_hsalary_df.to_csv(\"SK_hsalary.csv\",encoding='utf-8')"
   ]
  },
  {
   "cell_type": "code",
   "execution_count": 12,
   "metadata": {
    "collapsed": true
   },
   "outputs": [],
   "source": [
    "# save player url\n",
    "def get_players_url(season_id, team_id):\n",
    "    # connect url\n",
    "    url = \"http://www.koreabaseball.com/Record/Player/PitcherBasic/Basic1.aspx\"\n",
    "    driver = webdriver.Firefox()\n",
    "    driver.get(url)\n",
    "    \n",
    "    # click season\n",
    "    driver.find_element_by_css_selector('#cphContainer_cphContents_ddlSeason_ddlSeason').\\\n",
    "                find_elements_by_css_selector('option')[season_id].click()\n",
    "    time.sleep(api_delay_term)\n",
    "    \n",
    "    # click team\n",
    "    driver.find_element_by_css_selector('#cphContainer_cphContents_ddlTeam_ddlTeam').\\\n",
    "                find_elements_by_css_selector('option')[team_id].click()\n",
    "    time.sleep(api_delay_term)\n",
    "    \n",
    "    # get page number\n",
    "    page_elements = driver.find_elements_by_css_selector(\".paging02 a\")\n",
    "    page_number = len(page_elements)\n",
    "    if page_number == 1:\n",
    "        page_number = page_number\n",
    "    \n",
    "    if page_number > 1:\n",
    "        page_number = page_number -2\n",
    "    \n",
    "    # make empty dataframe\n",
    "    url_df = pd.DataFrame(columns=['url'])\n",
    "    \n",
    "    # if having one page\n",
    "    if page_number == 1:\n",
    "        elements = driver.find_elements_by_css_selector(\".record_result tr\")\n",
    "        elements = elements[1:len(elements)+1]\n",
    "    \n",
    "        for element in elements:\n",
    "            tmp_dict = {\n",
    "                \"url\" : element.find_element_by_css_selector(\"a\").get_attribute(\"href\")\n",
    "                }\n",
    "            url_df.loc[len(url_df)] = tmp_dict\n",
    "            \n",
    "    # if having other more pages\n",
    "    if page_number > 1:\n",
    "        for page in range(1, page_number+1):\n",
    "            driver.find_element_by_css_selector('#cphContainer_cphContents_ucPager_btnNo' + str(page)).click()\n",
    "            time.sleep(api_delay_term)\n",
    "            \n",
    "            elements = driver.find_elements_by_css_selector(\".record_result tr\")\n",
    "            elements = elements[1:len(elements)+1]\n",
    "            \n",
    "            for element in elements:\n",
    "                tmp_dict = {\n",
    "                    \"url\" : element.find_element_by_css_selector(\"a\").get_attribute(\"href\")\n",
    "                    }\n",
    "                url_df.loc[len(url_df)] = tmp_dict        \n",
    "    return url_df\n"
   ]
  },
  {
   "cell_type": "code",
   "execution_count": 13,
   "metadata": {
    "collapsed": false
   },
   "outputs": [
    {
     "name": "stdout",
     "output_type": "stream",
     "text": [
      "get url_df successfully\n"
     ]
    }
   ],
   "source": [
    "nexen_psalary_df = crawling_player_info(33,1)"
   ]
  },
  {
   "cell_type": "code",
   "execution_count": 14,
   "metadata": {
    "collapsed": true
   },
   "outputs": [],
   "source": [
    "nexen_psalary_df.to_csv(\"nexen_psalary.csv\",encoding='utf-8')"
   ]
  },
  {
   "cell_type": "code",
   "execution_count": 15,
   "metadata": {
    "collapsed": false
   },
   "outputs": [
    {
     "name": "stdout",
     "output_type": "stream",
     "text": [
      "get url_df successfully\n",
      "get url_df successfully\n",
      "get url_df successfully\n",
      "get url_df successfully\n",
      "get url_df successfully\n",
      "get url_df successfully\n",
      "get url_df successfully\n",
      "get url_df successfully\n",
      "get url_df successfully\n"
     ]
    },
    {
     "data": {
      "text/plain": [
       "1265.9138431549072"
      ]
     },
     "execution_count": 15,
     "metadata": {},
     "output_type": "execute_result"
    }
   ],
   "source": [
    "start_time = time.time()\n",
    "doosan_psalary_df = crawling_player_info(33,2)\n",
    "lotte_psalary_df = crawling_player_info(33,3)\n",
    "samsung_psalary_df = crawling_player_info(33,4)\n",
    "hanhwa_psalary_df = crawling_player_info(33,5)\n",
    "KIA_psalary_df = crawling_player_info(33,6)\n",
    "KT_psalary_df = crawling_player_info(33,7)\n",
    "LG_psalary_df = crawling_player_info(33,8)\n",
    "NC_psalary_df = crawling_player_info(33,9)\n",
    "SK_psalary_df = crawling_player_info(33,10)\n",
    "end_time = time.time()\n",
    "\n",
    "end_time-start_time"
   ]
  },
  {
   "cell_type": "code",
   "execution_count": null,
   "metadata": {
    "collapsed": true
   },
   "outputs": [],
   "source": [
    "doosan_psalary_df.to_csv(\"doosan_psalary.csv\",encoding='utf-8')\n",
    "lotte_psalary_df.to_csv(\"lotte_psalary.csv\",encoding='utf-8')\n",
    "samsung_psalary_df.to_csv(\"samsung_psalary.csv\",encoding='utf-8')\n",
    "hanhwa_psalary_df.to_csv(\"hanhwa_psalary.csv\",encoding='utf-8')\n",
    "KIA_psalary_df.to_csv(\"KIA_psalary.csv\",encoding='utf-8')\n",
    "KT_psalary_df.to_csv(\"KT_psalary.csv\",encoding='utf-8')\n",
    "LG_psalary_df.to_csv(\"LG_psalary.csv\",encoding='utf-8')\n",
    "NC_psalary_df.to_csv(\"NC_psalary.csv\",encoding='utf-8')\n",
    "SK_psalary_df.to_csv(\"SK_psalary.csv\",encoding='utf-8')"
   ]
  }
 ],
 "metadata": {
  "kernelspec": {
   "display_name": "Python 3",
   "language": "python",
   "name": "python3"
  },
  "language_info": {
   "codemirror_mode": {
    "name": "ipython",
    "version": 3
   },
   "file_extension": ".py",
   "mimetype": "text/x-python",
   "name": "python",
   "nbconvert_exporter": "python",
   "pygments_lexer": "ipython3",
   "version": "3.5.1"
  }
 },
 "nbformat": 4,
 "nbformat_minor": 0
}
