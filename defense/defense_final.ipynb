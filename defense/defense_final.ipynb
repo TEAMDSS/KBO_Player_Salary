{
 "cells": [
  {
   "cell_type": "code",
   "execution_count": 34,
   "metadata": {
    "collapsed": true
   },
   "outputs": [],
   "source": [
    "import pandas as pd\n",
    "import numpy as np"
   ]
  },
  {
   "cell_type": "code",
   "execution_count": 35,
   "metadata": {
    "collapsed": true
   },
   "outputs": [],
   "source": [
    "def make_float(x):\n",
    "    if \" \" in x:    #뛰어쓰기가 있는 경우에는 두 개로 쪼개서 계산 ex) 1123 1/3\n",
    "        number1, number2 = x.split(\" \")\n",
    "        number2_1, number2_2 = number2.split(\"/\")\n",
    "        number2 = int(number2_1) / int(number2_2)\n",
    "        number = int(number1) + number2\n",
    "    else:\n",
    "        if \"/\" in x: #뛰어쓰기가 없지만 /가 있는경우 ex) 1/3\n",
    "            number1, number2 = x.split(\"/\")\n",
    "            number = int(number1) / int(number2)\n",
    "        else: #숫자만 있을때 ex 112\n",
    "            number = int(x)\n",
    "    return number"
   ]
  },
  {
   "cell_type": "code",
   "execution_count": 43,
   "metadata": {
    "collapsed": false
   },
   "outputs": [],
   "source": [
    "doosan_df = pd.read_csv(\"doosan_defense.csv\")\n",
    "hanhwa_df = pd.read_csv(\"hanhwa_defense.csv\")\n",
    "KIA_df = pd.read_csv(\"KIA_defense.csv\")\n",
    "KT_df = pd.read_csv(\"KT_defense.csv\")\n",
    "LG_df = pd.read_csv(\"LG_defense.csv\")\n",
    "lotte_df = pd.read_csv(\"lotte_defense.csv\")\n",
    "NC_df = pd.read_csv(\"NC_defense.csv\")\n",
    "nexen_df = pd.read_csv(\"nexen_defense.csv\")\n",
    "samsung_df = pd.read_csv(\"samsung_defense.csv\")\n",
    "SK_df = pd.read_csv(\"SK_defense.csv\")"
   ]
  },
  {
   "cell_type": "code",
   "execution_count": 44,
   "metadata": {
    "collapsed": false,
    "scrolled": true
   },
   "outputs": [],
   "source": [
    "doosan_df[\"IP\"] = doosan_df[\"IP\"].apply(make_float)\n",
    "hanhwa_df[\"IP\"] = hanhwa_df[\"IP\"].apply(make_float)\n",
    "KIA_df[\"IP\"] = KIA_df[\"IP\"].apply(make_float)\n",
    "KT_df[\"IP\"] = KT_df[\"IP\"].apply(make_float)\n",
    "LG_df[\"IP\"] = LG_df[\"IP\"].apply(make_float)\n",
    "lotte_df[\"IP\"] = lotte_df[\"IP\"].apply(make_float)\n",
    "NC_df[\"IP\"] = NC_df[\"IP\"].apply(make_float)\n",
    "nexen_df[\"IP\"] = nexen_df[\"IP\"].apply(make_float)\n",
    "samsung_df[\"IP\"] = samsung_df[\"IP\"].apply(make_float)\n",
    "SK_df[\"IP\"] = SK_df[\"IP\"].apply(make_float)"
   ]
  },
  {
   "cell_type": "code",
   "execution_count": 45,
   "metadata": {
    "collapsed": false,
    "scrolled": false
   },
   "outputs": [],
   "source": [
    "doosan_df = doosan_df.groupby(\"name\", as_index=False).agg({\"GS\":np.sum, \"IP\":np.sum, \"E\":np.sum,\"PKO\":np.sum,\"PO\":np.sum,\"A\":np.sum,\"DP\":np.sum,\"PB\":np.sum,\"SB\":np.sum,\"CS\":np.sum,})\n",
    "hanhwa_df = hanhwa_df.groupby(\"name\", as_index=False).agg({\"GS\":np.sum, \"IP\":np.sum, \"E\":np.sum,\"PKO\":np.sum,\"PO\":np.sum,\"A\":np.sum,\"DP\":np.sum,\"PB\":np.sum,\"SB\":np.sum,\"CS\":np.sum,})\n",
    "KIA_df = KIA_df.groupby(\"name\", as_index=False).agg({\"GS\":np.sum, \"IP\":np.sum, \"E\":np.sum,\"PKO\":np.sum,\"PO\":np.sum,\"A\":np.sum,\"DP\":np.sum,\"PB\":np.sum,\"SB\":np.sum,\"CS\":np.sum,})\n",
    "KT_df = KT_df.groupby(\"name\", as_index=False).agg({\"GS\":np.sum, \"IP\":np.sum, \"E\":np.sum,\"PKO\":np.sum,\"PO\":np.sum,\"A\":np.sum,\"DP\":np.sum,\"PB\":np.sum,\"SB\":np.sum,\"CS\":np.sum,})\n",
    "LG_df = LG_df.groupby(\"name\", as_index=False).agg({\"GS\":np.sum, \"IP\":np.sum, \"E\":np.sum,\"PKO\":np.sum,\"PO\":np.sum,\"A\":np.sum,\"DP\":np.sum,\"PB\":np.sum,\"SB\":np.sum,\"CS\":np.sum,})\n",
    "lotte_df = lotte_df.groupby(\"name\", as_index=False).agg({\"GS\":np.sum, \"IP\":np.sum, \"E\":np.sum,\"PKO\":np.sum,\"PO\":np.sum,\"A\":np.sum,\"DP\":np.sum,\"PB\":np.sum,\"SB\":np.sum,\"CS\":np.sum,})\n",
    "NC_df = NC_df.groupby(\"name\", as_index=False).agg({\"GS\":np.sum, \"IP\":np.sum, \"E\":np.sum,\"PKO\":np.sum,\"PO\":np.sum,\"A\":np.sum,\"DP\":np.sum,\"PB\":np.sum,\"SB\":np.sum,\"CS\":np.sum,})\n",
    "nexen_df = nexen_df.groupby(\"name\", as_index=False).agg({\"GS\":np.sum, \"IP\":np.sum, \"E\":np.sum,\"PKO\":np.sum,\"PO\":np.sum,\"A\":np.sum,\"DP\":np.sum,\"PB\":np.sum,\"SB\":np.sum,\"CS\":np.sum,})\n",
    "samsung_df = samsung_df.groupby(\"name\", as_index=False).agg({\"GS\":np.sum, \"IP\":np.sum, \"E\":np.sum,\"PKO\":np.sum,\"PO\":np.sum,\"A\":np.sum,\"DP\":np.sum,\"PB\":np.sum,\"SB\":np.sum,\"CS\":np.sum,})\n",
    "SK_df = SK_df.groupby(\"name\", as_index=False).agg({\"GS\":np.sum, \"IP\":np.sum, \"E\":np.sum,\"PKO\":np.sum,\"PO\":np.sum,\"A\":np.sum,\"DP\":np.sum,\"PB\":np.sum,\"SB\":np.sum,\"CS\":np.sum,})"
   ]
  },
  {
   "cell_type": "code",
   "execution_count": 46,
   "metadata": {
    "collapsed": false
   },
   "outputs": [],
   "source": [
    "doosan_df[\"FPCT\"]= np.array((doosan_df[\"A\"] + doosan_df[\"PO\"]) / (doosan_df[\"A\"] + doosan_df[\"PO\"] + doosan_df[\"E\"]),dtype=\"float64\")\n",
    "hanhwa_df[\"FPCT\"]= np.array((hanhwa_df[\"A\"] + hanhwa_df[\"PO\"]) / (hanhwa_df[\"A\"] + hanhwa_df[\"PO\"] + hanhwa_df[\"E\"]),dtype=\"float64\")\n",
    "KIA_df[\"FPCT\"]= np.array((KIA_df[\"A\"] + KIA_df[\"PO\"]) / (KIA_df[\"A\"] + KIA_df[\"PO\"] + KIA_df[\"E\"]),dtype=\"float64\")\n",
    "KT_df[\"FPCT\"]= np.array((KT_df[\"A\"] + KT_df[\"PO\"]) / (KT_df[\"A\"] + KT_df[\"PO\"] + KT_df[\"E\"]),dtype=\"float64\")\n",
    "LG_df[\"FPCT\"]= np.array((LG_df[\"A\"] + LG_df[\"PO\"]) / (LG_df[\"A\"] + LG_df[\"PO\"] + LG_df[\"E\"]),dtype=\"float64\")\n",
    "lotte_df[\"FPCT\"]= np.array((lotte_df[\"A\"] + lotte_df[\"PO\"]) / (lotte_df[\"A\"] + lotte_df[\"PO\"] + lotte_df[\"E\"]),dtype=\"float64\")\n",
    "NC_df[\"FPCT\"]= np.array((NC_df[\"A\"] + NC_df[\"PO\"]) / (NC_df[\"A\"] + NC_df[\"PO\"] + NC_df[\"E\"]),dtype=\"float64\")\n",
    "nexen_df[\"FPCT\"]= np.array((nexen_df[\"A\"] + nexen_df[\"PO\"]) / (nexen_df[\"A\"] + nexen_df[\"PO\"] + nexen_df[\"E\"]),dtype=\"float64\")\n",
    "samsung_df[\"FPCT\"]= np.array((samsung_df[\"A\"] + samsung_df[\"PO\"]) / (samsung_df[\"A\"] + samsung_df[\"PO\"] + samsung_df[\"E\"]),dtype=\"float64\")\n",
    "SK_df[\"FPCT\"]= np.array((SK_df[\"A\"] + SK_df[\"PO\"]) / (SK_df[\"A\"] + SK_df[\"PO\"] + SK_df[\"E\"]),dtype=\"float64\")"
   ]
  },
  {
   "cell_type": "code",
   "execution_count": 47,
   "metadata": {
    "collapsed": false
   },
   "outputs": [],
   "source": [
    "doosan_df[\"CS%\"]=np.array(((doosan_df[\"CS\"]/(doosan_df[\"SB\"]+doosan_df[\"CS\"])) * 100),dtype=\"float64\")\n",
    "hanhwa_df[\"CS%\"]=np.array(((hanhwa_df[\"CS\"]/(hanhwa_df[\"SB\"]+hanhwa_df[\"CS\"])) * 100),dtype=\"float64\")\n",
    "KIA_df[\"CS%\"]=np.array(((KIA_df[\"CS\"]/(KIA_df[\"SB\"]+KIA_df[\"CS\"])) * 100),dtype=\"float64\")\n",
    "KT_df[\"CS%\"]=np.array(((KT_df[\"CS\"]/(KT_df[\"SB\"]+KT_df[\"CS\"])) * 100),dtype=\"float64\")\n",
    "LG_df[\"CS%\"]=np.array(((LG_df[\"CS\"]/(LG_df[\"SB\"]+LG_df[\"CS\"])) * 100),dtype=\"float64\")\n",
    "lotte_df[\"CS%\"]=np.array(((lotte_df[\"CS\"]/(lotte_df[\"SB\"]+lotte_df[\"CS\"])) * 100),dtype=\"float64\")\n",
    "NC_df[\"CS%\"]=np.array(((NC_df[\"CS\"]/(NC_df[\"SB\"]+NC_df[\"CS\"])) * 100),dtype=\"float64\")\n",
    "nexen_df[\"CS%\"]=np.array(((nexen_df[\"CS\"]/(nexen_df[\"SB\"]+nexen_df[\"CS\"])) * 100),dtype=\"float64\")\n",
    "samsung_df[\"CS%\"]=np.array(((samsung_df[\"CS\"]/(samsung_df[\"SB\"]+samsung_df[\"CS\"])) * 100),dtype=\"float64\")\n",
    "SK_df[\"CS%\"]=np.array(((SK_df[\"CS\"]/(SK_df[\"SB\"]+SK_df[\"CS\"])) * 100),dtype=\"float64\")"
   ]
  },
  {
   "cell_type": "code",
   "execution_count": 48,
   "metadata": {
    "collapsed": false
   },
   "outputs": [],
   "source": [
    "doosan_df = doosan_df.fillna(0)\n",
    "hanhwa_df = hanhwa_df.fillna(0)\n",
    "KIA_df = KIA_df.fillna(0)\n",
    "KT_df = KT_df.fillna(0)\n",
    "LG_df = LG_df.fillna(0)\n",
    "lotte_df = lotte_df.fillna(0)\n",
    "NC_df = NC_df.fillna(0)\n",
    "nexen_df = nexen_df.fillna(0)\n",
    "samsung_df = samsung_df.fillna(0)\n",
    "SK_df = SK_df.fillna(0)"
   ]
  },
  {
   "cell_type": "code",
   "execution_count": 49,
   "metadata": {
    "collapsed": false
   },
   "outputs": [],
   "source": [
    "doosan_df.to_csv(\"doosan_d.csv\",encoding='utf-8')\n",
    "hanhwa_df.to_csv(\"hanhwa_d.csv\",encoding='utf-8')\n",
    "KIA_df.to_csv(\"KIA_d.csv\",encoding='utf-8')\n",
    "KT_df.to_csv(\"KT_d.csv\",encoding='utf-8')\n",
    "LG_df.to_csv(\"LG_d.csv\",encoding='utf-8')\n",
    "lotte_df.to_csv(\"lotte_d.csv\",encoding='utf-8')\n",
    "NC_df.to_csv(\"NC_d.csv\",encoding='utf-8')\n",
    "nexen_df.to_csv(\"nexen_d.csv\",encoding='utf-8')\n",
    "samsung_df.to_csv(\"samsung_d.csv\",encoding='utf-8')\n",
    "SK_df.to_csv(\"SK_d.csv\",encoding='utf-8')"
   ]
  },
  {
   "cell_type": "code",
   "execution_count": null,
   "metadata": {
    "collapsed": true
   },
   "outputs": [],
   "source": []
  }
 ],
 "metadata": {
  "anaconda-cloud": {},
  "kernelspec": {
   "display_name": "Python 3",
   "language": "python",
   "name": "python3"
  },
  "language_info": {
   "codemirror_mode": {
    "name": "ipython",
    "version": 3
   },
   "file_extension": ".py",
   "mimetype": "text/x-python",
   "name": "python",
   "nbconvert_exporter": "python",
   "pygments_lexer": "ipython3",
   "version": "3.5.1"
  }
 },
 "nbformat": 4,
 "nbformat_minor": 0
}
