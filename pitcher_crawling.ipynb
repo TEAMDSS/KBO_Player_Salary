{
 "cells": [
  {
   "cell_type": "code",
   "execution_count": 1,
   "metadata": {
    "collapsed": true
   },
   "outputs": [],
   "source": [
    "# import package\n",
    "import pandas as pd\n",
    "import time\n",
    "import pickle\n",
    "from selenium import webdriver\n",
    "import glob\n",
    "import os"
   ]
  },
  {
   "cell_type": "code",
   "execution_count": 2,
   "metadata": {
    "collapsed": true
   },
   "outputs": [],
   "source": [
    "api_delay_term = 3"
   ]
  },
  {
   "cell_type": "code",
   "execution_count": 3,
   "metadata": {
    "collapsed": true
   },
   "outputs": [],
   "source": [
    "# crawling_pitcher_basic\n",
    "def crawling_pitcher_basic(season_id, team_id):\n",
    "    \"\"\"\n",
    "    season_id = 0 ~ 34\n",
    "    team_id = 1 ~ 10\n",
    "    ------------------------------------------------------------------------------------\n",
    "    <season_id>\n",
    "    0 : 1982 \n",
    "      :\n",
    "      :\n",
    "    34 : 2016\n",
    "    \n",
    "    <team_id>\n",
    "    1 : Nexen heroes\n",
    "    2 : Doosan\n",
    "    3 : Lotte\n",
    "    4 : Samsung\n",
    "    5 : Hanhwa\n",
    "    6 : KIA\n",
    "    7 : KT\n",
    "    8 : LG twins\n",
    "    9 : NC dinos\n",
    "    10 : SK wyberns\n",
    "    \"\"\"\n",
    "    \n",
    "    url = \"http://www.koreabaseball.com/Record/Player/PitcherBasic/Basic1.aspx\"\n",
    "    driver = webdriver.PhantomJS()\n",
    "    driver.get(url)\n",
    "    \n",
    "    # click season\n",
    "    driver.find_element_by_css_selector('#cphContainer_cphContents_ddlSeason_ddlSeason').\\\n",
    "            find_elements_by_css_selector('option')[season_id].click()\n",
    "    time.sleep(api_delay_term)\n",
    "    # click team\n",
    "    driver.find_element_by_css_selector('#cphContainer_cphContents_ddlTeam_ddlTeam').\\\n",
    "            find_elements_by_css_selector('option')[team_id].click()\n",
    "    time.sleep(api_delay_term)\n",
    "    elements = driver.find_elements_by_css_selector(\".record_result tr\")\n",
    "    elements = elements[1:len(elements)+1]\n",
    "    \n",
    "    pitcher_basic_df = pd.DataFrame(columns=[\n",
    "        'rank', 'name', 'team', 'ERA', 'G', 'W', 'L', 'SV', 'HLD', 'WPCT',\n",
    "        'IP', 'H', 'HR', 'BB', 'HBP', 'SO', 'R', 'ER', 'WHIP'\n",
    "    ])\n",
    "    \n",
    "    for element in elements:\n",
    "        tmp_dict  = {\n",
    "            'rank' : element.find_elements_by_css_selector('td')[0].text,\n",
    "            'name' : element.find_elements_by_css_selector('td')[1].text,\n",
    "            'team' : element.find_elements_by_css_selector('td')[2].text,\n",
    "            'ERA' : element.find_elements_by_css_selector('td')[3].text,\n",
    "            'G' : element.find_elements_by_css_selector('td')[4].text,\n",
    "            'W' : element.find_elements_by_css_selector('td')[5].text,\n",
    "            'L' : element.find_elements_by_css_selector('td')[6].text,\n",
    "            'SV' : element.find_elements_by_css_selector('td')[7].text,\n",
    "            'HLD' : element.find_elements_by_css_selector('td')[8].text,\n",
    "            'WPCT' : element.find_elements_by_css_selector('td')[9].text,\n",
    "            'IP' : element.find_elements_by_css_selector('td')[10].text,\n",
    "            'H' : element.find_elements_by_css_selector('td')[11].text,\n",
    "            'HR' : element.find_elements_by_css_selector('td')[12].text,\n",
    "            'BB' : element.find_elements_by_css_selector('td')[13].text,\n",
    "            'HBP' : element.find_elements_by_css_selector('td')[14].text,\n",
    "            'SO' : element.find_elements_by_css_selector('td')[15].text,\n",
    "            'R' : element.find_elements_by_css_selector('td')[16].text,\n",
    "            'ER' : element.find_elements_by_css_selector('td')[17].text,\n",
    "            'WHIP' : element.find_elements_by_css_selector('td')[18].text,\n",
    "        }\n",
    "        pitcher_basic_df.loc[len(pitcher_basic_df)] = tmp_dict\n",
    "    # close webdriver\n",
    "    driver.close()\n",
    "    return pitcher_basic_df"
   ]
  },
  {
   "cell_type": "code",
   "execution_count": 9,
   "metadata": {
    "collapsed": false
   },
   "outputs": [],
   "source": [
    "nexen_pb_15_df = crawling_pitcher_basic(33,1)"
   ]
  },
  {
   "cell_type": "code",
   "execution_count": 10,
   "metadata": {
    "collapsed": true
   },
   "outputs": [],
   "source": [
    "nexen_pb_15_df.to_csv(\"nexen_pb_15.csv\",encoding='utf-8')"
   ]
  },
  {
   "cell_type": "code",
   "execution_count": 15,
   "metadata": {
    "collapsed": false
   },
   "outputs": [
    {
     "data": {
      "text/plain": [
       "221.34296488761902"
      ]
     },
     "execution_count": 15,
     "metadata": {},
     "output_type": "execute_result"
    }
   ],
   "source": [
    "start_time = time.time()\n",
    "doosan_pb_15_df = crawling_pitcher_basic(33,2)\n",
    "lotte_pb_15_df = crawling_pitcher_basic(33,3)\n",
    "samsung_pb_15_df = crawling_pitcher_basic(33,4)\n",
    "hanhwa_pb_15_df = crawling_pitcher_basic(33,5)\n",
    "KIA_pb_15_df = crawling_pitcher_basic(33,6)\n",
    "KT_pb_15_df = crawling_pitcher_basic(33,7)\n",
    "LG_pb_15_df = crawling_pitcher_basic(33,8)\n",
    "NC_pb_15_df = crawling_pitcher_basic(33,9)\n",
    "SK_pb_15_df = crawling_pitcher_basic(33,10)\n",
    "end_time = time.time()\n",
    "\n",
    "end_time-start_time"
   ]
  },
  {
   "cell_type": "code",
   "execution_count": 19,
   "metadata": {
    "collapsed": false
   },
   "outputs": [],
   "source": [
    "doosan_pb_15_df.to_csv(\"doosan_pb_15.csv\",encoding='utf-8')\n",
    "lotte_pb_15_df.to_csv(\"lotte_pb_15.csv\",encoding='utf-8')\n",
    "samsung_pb_15_df.to_csv(\"samsung_pb_15.csv\",encoding='utf-8')\n",
    "hanhwa_pb_15_df.to_csv(\"hanhwa_pb_15.csv\",encoding='utf-8')\n",
    "KIA_pb_15_df.to_csv(\"KIA_pb_15.csv\",encoding='utf-8')\n",
    "KT_pb_15_df.to_csv(\"KT_pb_15.csv\",encoding='utf-8')\n",
    "LG_pb_15_df.to_csv(\"LG_pb_15.csv\",encoding='utf-8')\n",
    "NC_pb_15_df.to_csv(\"NC_pb_15.csv\",encoding='utf-8')\n",
    "SK_pb_15_df.to_csv(\"SK_pb_15.csv\",encoding='utf-8')"
   ]
  },
  {
   "cell_type": "code",
   "execution_count": 5,
   "metadata": {
    "collapsed": true
   },
   "outputs": [],
   "source": [
    "# crawling_pitcher_detail\n",
    "def crawling_pitcher_detail(season_id, team_id):\n",
    "    \"\"\"\n",
    "    season_id = 0 ~ 34\n",
    "    team_id = 1 ~ 10\n",
    "    ------------------------------------------------------------------------------------\n",
    "    <season_id>\n",
    "    0 : 1982 \n",
    "      :\n",
    "      :\n",
    "    34 : 2016\n",
    "    \n",
    "    <team_id>\n",
    "    1 : Nexen heroes\n",
    "    2 : Doosan\n",
    "    3 : Lotte\n",
    "    4 : Samsung\n",
    "    5 : Hanhwa\n",
    "    6 : KIA\n",
    "    7 : KT\n",
    "    8 : LG twins\n",
    "    9 : NC dinos\n",
    "    10 : SK wyberns\n",
    "    \"\"\"\n",
    "    \n",
    "    url = \"http://www.koreabaseball.com/Record/Player/PitcherBasic/Detail1.aspx\"\n",
    "    driver = webdriver.PhantomJS()\n",
    "    driver.get(url)\n",
    "    \n",
    "    # click season\n",
    "    driver.find_element_by_css_selector('#cphContainer_cphContents_ddlSeason_ddlSeason').\\\n",
    "            find_elements_by_css_selector('option')[season_id].click()\n",
    "    time.sleep(api_delay_term)\n",
    "    # click team\n",
    "    driver.find_element_by_css_selector('#cphContainer_cphContents_ddlTeam_ddlTeam').\\\n",
    "            find_elements_by_css_selector('option')[team_id].click()\n",
    "    time.sleep(api_delay_term)\n",
    "    elements = driver.find_elements_by_css_selector(\".record_result tr\")\n",
    "    elements = elements[1:len(elements)+1]\n",
    "    \n",
    "    pitcher_detail_df = pd.DataFrame(columns=[\n",
    "        'rank', 'name', 'team', 'ERA', 'GS', 'Wgs', 'Wgr', 'GF', 'SVO', 'TS',\n",
    "        'GDP', 'GO', 'AO', 'GO/AO'\n",
    "    ])\n",
    "    \n",
    "    for element in elements:\n",
    "        tmp_dict  = {\n",
    "            'rank' : element.find_elements_by_css_selector('td')[0].text,\n",
    "            'name' : element.find_elements_by_css_selector('td')[1].text,\n",
    "            'team' : element.find_elements_by_css_selector('td')[2].text,\n",
    "            'ERA' : element.find_elements_by_css_selector('td')[3].text,\n",
    "            'GS' : element.find_elements_by_css_selector('td')[4].text,\n",
    "            'Wgs' : element.find_elements_by_css_selector('td')[5].text,\n",
    "            'Wgr' : element.find_elements_by_css_selector('td')[6].text,\n",
    "            'GF' : element.find_elements_by_css_selector('td')[7].text,\n",
    "            'SVO' : element.find_elements_by_css_selector('td')[8].text,\n",
    "            'TS' : element.find_elements_by_css_selector('td')[9].text,\n",
    "            'GDP' : element.find_elements_by_css_selector('td')[10].text,\n",
    "            'GO' : element.find_elements_by_css_selector('td')[11].text,\n",
    "            'AO' : element.find_elements_by_css_selector('td')[12].text,\n",
    "            'GO/AO' : element.find_elements_by_css_selector('td')[13].text,\n",
    "        }\n",
    "        pitcher_detail_df.loc[len(pitcher_detail_df)] = tmp_dict\n",
    "    # close webdriver\n",
    "    driver.close()\n",
    "    return pitcher_detail_df"
   ]
  },
  {
   "cell_type": "code",
   "execution_count": 24,
   "metadata": {
    "collapsed": false
   },
   "outputs": [],
   "source": [
    "nexen_pd_15_df = crawling_pitcher_detail(33,1)"
   ]
  },
  {
   "cell_type": "code",
   "execution_count": 25,
   "metadata": {
    "collapsed": true
   },
   "outputs": [],
   "source": [
    "nexen_pd_15_df.to_csv(\"nexen_pd_15.csv\",encoding='utf-8')"
   ]
  },
  {
   "cell_type": "code",
   "execution_count": 27,
   "metadata": {
    "collapsed": false
   },
   "outputs": [
    {
     "data": {
      "text/plain": [
       "208.31250405311584"
      ]
     },
     "execution_count": 27,
     "metadata": {},
     "output_type": "execute_result"
    }
   ],
   "source": [
    "start_time = time.time()\n",
    "doosan_pd_15_df = crawling_pitcher_detail(33,2)\n",
    "lotte_pd_15_df = crawling_pitcher_detail(33,3)\n",
    "samsung_pd_15_df = crawling_pitcher_detail(33,4)\n",
    "hanhwa_pd_15_df = crawling_pitcher_detail(33,5)\n",
    "KIA_pd_15_df = crawling_pitcher_detail(33,6)\n",
    "KT_pd_15_df = crawling_pitcher_detail(33,7)\n",
    "LG_pd_15_df = crawling_pitcher_detail(33,8)\n",
    "NC_pd_15_df = crawling_pitcher_detail(33,9)\n",
    "SK_pd_15_df = crawling_pitcher_detail(33,10)\n",
    "end_time = time.time()\n",
    "\n",
    "end_time-start_time"
   ]
  },
  {
   "cell_type": "code",
   "execution_count": 29,
   "metadata": {
    "collapsed": false
   },
   "outputs": [],
   "source": [
    "doosan_pd_15_df.to_csv(\"doosan_pd_15.csv\",encoding='utf-8')\n",
    "lotte_pd_15_df.to_csv(\"lotte_pd_15.csv\",encoding='utf-8')\n",
    "samsung_pd_15_df.to_csv(\"samsung_pd_15.csv\",encoding='utf-8')\n",
    "hanhwa_pd_15_df.to_csv(\"hanhwa_pd_15.csv\",encoding='utf-8')\n",
    "KIA_pd_15_df.to_csv(\"KIA_pd_15.csv\",encoding='utf-8')\n",
    "KT_pd_15_df.to_csv(\"KT_pd_15.csv\",encoding='utf-8')\n",
    "LG_pd_15_df.to_csv(\"LG_pd_15.csv\",encoding='utf-8')\n",
    "NC_pd_15_df.to_csv(\"NC_pd_15.csv\",encoding='utf-8')\n",
    "SK_pd_15_df.to_csv(\"SK_pd_15.csv\",encoding='utf-8')"
   ]
  },
  {
   "cell_type": "code",
   "execution_count": null,
   "metadata": {
    "collapsed": true
   },
   "outputs": [],
   "source": []
  }
 ],
 "metadata": {
  "kernelspec": {
   "display_name": "Python 3",
   "language": "python",
   "name": "python3"
  },
  "language_info": {
   "codemirror_mode": {
    "name": "ipython",
    "version": 3
   },
   "file_extension": ".py",
   "mimetype": "text/x-python",
   "name": "python",
   "nbconvert_exporter": "python",
   "pygments_lexer": "ipython3",
   "version": "3.5.1"
  }
 },
 "nbformat": 4,
 "nbformat_minor": 0
}
