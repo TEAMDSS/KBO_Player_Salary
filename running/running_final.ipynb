{
 "cells": [
  {
   "cell_type": "code",
   "execution_count": 32,
   "metadata": {
    "collapsed": true
   },
   "outputs": [],
   "source": [
    "import pandas as pd\n",
    "import numpy as np"
   ]
  },
  {
   "cell_type": "code",
   "execution_count": 33,
   "metadata": {
    "collapsed": true
   },
   "outputs": [],
   "source": [
    "doosan_df = pd.read_csv(\"doosan_running.csv\")\n",
    "hanhwa_df = pd.read_csv(\"hanhwa_running.csv\")\n",
    "KIA_df = pd.read_csv(\"KIA_running.csv\")\n",
    "KT_df = pd.read_csv(\"KT_running.csv\")\n",
    "LG_df = pd.read_csv(\"LG_running.csv\")\n",
    "lotte_df = pd.read_csv(\"lotte_running.csv\")\n",
    "NC_df = pd.read_csv(\"NC_running.csv\")\n",
    "nexen_df = pd.read_csv(\"nexen_running.csv\")\n",
    "samsung_df = pd.read_csv(\"samsung_running.csv\")\n",
    "SK_df = pd.read_csv(\"SK_running.csv\")"
   ]
  },
  {
   "cell_type": "code",
   "execution_count": 34,
   "metadata": {
    "collapsed": true
   },
   "outputs": [],
   "source": [
    "doosan_df = doosan_df.groupby(\"name\", as_index=False).agg({\"SBA\":np.sum, \"SB\":np.sum, \"CS\":np.sum,\"OOB\":np.sum,})\n",
    "hanhwa_df = hanhwa_df.groupby(\"name\", as_index=False).agg({\"SBA\":np.sum, \"SB\":np.sum, \"CS\":np.sum,\"OOB\":np.sum,})\n",
    "KIA_df = KIA_df.groupby(\"name\", as_index=False).agg({\"SBA\":np.sum, \"SB\":np.sum, \"CS\":np.sum,\"OOB\":np.sum,})\n",
    "KT_df = KT_df.groupby(\"name\", as_index=False).agg({\"SBA\":np.sum, \"SB\":np.sum, \"CS\":np.sum,\"OOB\":np.sum,})\n",
    "LG_df = LG_df.groupby(\"name\", as_index=False).agg({\"SBA\":np.sum, \"SB\":np.sum, \"CS\":np.sum,\"OOB\":np.sum,})\n",
    "lotte_df = lotte_df.groupby(\"name\", as_index=False).agg({\"SBA\":np.sum, \"SB\":np.sum, \"CS\":np.sum,\"OOB\":np.sum,})\n",
    "NC_df = NC_df.groupby(\"name\", as_index=False).agg({\"SBA\":np.sum, \"SB\":np.sum, \"CS\":np.sum,\"OOB\":np.sum,})\n",
    "nexen_df = nexen_df.groupby(\"name\", as_index=False).agg({\"SBA\":np.sum, \"SB\":np.sum, \"CS\":np.sum,\"OOB\":np.sum,})\n",
    "samsung_df = samsung_df.groupby(\"name\", as_index=False).agg({\"SBA\":np.sum, \"SB\":np.sum, \"CS\":np.sum,\"OOB\":np.sum,})\n",
    "SK_df = SK_df.groupby(\"name\", as_index=False).agg({\"SBA\":np.sum, \"SB\":np.sum, \"CS\":np.sum,\"OOB\":np.sum,})"
   ]
  },
  {
   "cell_type": "code",
   "execution_count": 35,
   "metadata": {
    "collapsed": true
   },
   "outputs": [],
   "source": [
    "doosan_df[\"SB%\"]=np.array(((doosan_df[\"SB\"]/(doosan_df[\"SB\"]+doosan_df[\"CS\"])) * 100),dtype=\"float64\")\n",
    "hanhwa_df[\"SB%\"]=np.array(((hanhwa_df[\"SB\"]/(hanhwa_df[\"SB\"]+hanhwa_df[\"CS\"])) * 100),dtype=\"float64\")\n",
    "KIA_df[\"SB%\"]=np.array(((KIA_df[\"SB\"]/(KIA_df[\"SB\"]+KIA_df[\"CS\"])) * 100),dtype=\"float64\")\n",
    "KT_df[\"SB%\"]=np.array(((KT_df[\"SB\"]/(KT_df[\"SB\"]+KT_df[\"CS\"])) * 100),dtype=\"float64\")\n",
    "LG_df[\"SB%\"]=np.array(((LG_df[\"SB\"]/(LG_df[\"SB\"]+LG_df[\"CS\"])) * 100),dtype=\"float64\")\n",
    "lotte_df[\"SB%\"]=np.array(((lotte_df[\"SB\"]/(lotte_df[\"SB\"]+lotte_df[\"CS\"])) * 100),dtype=\"float64\")\n",
    "NC_df[\"SB%\"]=np.array(((NC_df[\"SB\"]/(NC_df[\"SB\"]+NC_df[\"CS\"])) * 100),dtype=\"float64\")\n",
    "nexen_df[\"SB%\"]=np.array(((nexen_df[\"SB\"]/(nexen_df[\"SB\"]+nexen_df[\"CS\"])) * 100),dtype=\"float64\")\n",
    "samsung_df[\"SB%\"]=np.array(((samsung_df[\"SB\"]/(samsung_df[\"SB\"]+samsung_df[\"CS\"])) * 100),dtype=\"float64\")\n",
    "SK_df[\"SB%\"]=np.array(((SK_df[\"SB\"]/(SK_df[\"SB\"]+SK_df[\"CS\"])) * 100),dtype=\"float64\")"
   ]
  },
  {
   "cell_type": "code",
   "execution_count": 36,
   "metadata": {
    "collapsed": false
   },
   "outputs": [],
   "source": [
    "doosan_df= doosan_df[[\"name\",\"SBA\",\"SB%\",\"OOB\"]]\n",
    "hanhwa_df= hanhwa_df[[\"name\",\"SBA\",\"SB%\",\"OOB\"]]\n",
    "KIA_df= KIA_df[[\"name\",\"SBA\",\"SB%\",\"OOB\"]]\n",
    "KT_df= KT_df[[\"name\",\"SBA\",\"SB%\",\"OOB\"]]\n",
    "LG_df= LG_df[[\"name\",\"SBA\",\"SB%\",\"OOB\"]]\n",
    "lotte_df= lotte_df[[\"name\",\"SBA\",\"SB%\",\"OOB\"]]\n",
    "NC_df= NC_df[[\"name\",\"SBA\",\"SB%\",\"OOB\"]]\n",
    "nexen_df= nexen_df[[\"name\",\"SBA\",\"SB%\",\"OOB\"]]\n",
    "samsung_df= samsung_df[[\"name\",\"SBA\",\"SB%\",\"OOB\"]]\n",
    "SK_df= SK_df[[\"name\",\"SBA\",\"SB%\",\"OOB\"]]"
   ]
  },
  {
   "cell_type": "code",
   "execution_count": 37,
   "metadata": {
    "collapsed": false
   },
   "outputs": [],
   "source": [
    "doosan_df = doosan_df.fillna(0)\n",
    "hanhwa_df = hanhwa_df.fillna(0)\n",
    "KIA_df = KIA_df.fillna(0)\n",
    "KT_df = KT_df.fillna(0)\n",
    "LG_df = LG_df.fillna(0)\n",
    "lotte_df = lotte_df.fillna(0)\n",
    "NC_df = NC_df.fillna(0)\n",
    "nexen_df = nexen_df.fillna(0)\n",
    "samsung_df = samsung_df.fillna(0)\n",
    "SK_df = SK_df.fillna(0)"
   ]
  },
  {
   "cell_type": "code",
   "execution_count": 38,
   "metadata": {
    "collapsed": false
   },
   "outputs": [],
   "source": [
    "doosan_df.to_csv(\"doosan_r.csv\",encoding='utf-8')\n",
    "hanhwa_df.to_csv(\"hanhwa_r.csv\",encoding='utf-8')\n",
    "KIA_df.to_csv(\"KIA_r.csv\",encoding='utf-8')\n",
    "KT_df.to_csv(\"KT_r.csv\",encoding='utf-8')\n",
    "LG_df.to_csv(\"LG_r.csv\",encoding='utf-8')\n",
    "lotte_df.to_csv(\"lotte_r.csv\",encoding='utf-8')\n",
    "NC_df.to_csv(\"NC_r.csv\",encoding='utf-8')\n",
    "nexen_df.to_csv(\"nexen_r.csv\",encoding='utf-8')\n",
    "samsung_df.to_csv(\"samsung_r.csv\",encoding='utf-8')\n",
    "SK_df.to_csv(\"SK_r.csv\",encoding='utf-8')"
   ]
  },
  {
   "cell_type": "code",
   "execution_count": null,
   "metadata": {
    "collapsed": true
   },
   "outputs": [],
   "source": []
  }
 ],
 "metadata": {
  "kernelspec": {
   "display_name": "Python 3",
   "language": "python",
   "name": "python3"
  },
  "language_info": {
   "codemirror_mode": {
    "name": "ipython",
    "version": 3
   },
   "file_extension": ".py",
   "mimetype": "text/x-python",
   "name": "python",
   "nbconvert_exporter": "python",
   "pygments_lexer": "ipython3",
   "version": "3.5.1"
  }
 },
 "nbformat": 4,
 "nbformat_minor": 0
}
