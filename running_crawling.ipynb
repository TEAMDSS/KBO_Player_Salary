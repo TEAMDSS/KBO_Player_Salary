{
 "cells": [
  {
   "cell_type": "code",
   "execution_count": 1,
   "metadata": {
    "collapsed": true
   },
   "outputs": [],
   "source": [
    "# import package\n",
    "import pandas as pd\n",
    "import time\n",
    "import pickle\n",
    "from selenium import webdriver\n",
    "import glob\n",
    "import os"
   ]
  },
  {
   "cell_type": "code",
   "execution_count": 2,
   "metadata": {
    "collapsed": true
   },
   "outputs": [],
   "source": [
    "api_delay_term = 3"
   ]
  },
  {
   "cell_type": "code",
   "execution_count": null,
   "metadata": {
    "collapsed": true
   },
   "outputs": [],
   "source": [
    "# crawling_running\n",
    "def crawling_running(season_id, team_id):\n",
    "    \"\"\"\n",
    "    season_id = 0 ~ 34\n",
    "    team_id = 1 ~ 10\n",
    "    ------------------------------------------------------------------------------------\n",
    "    <season_id>\n",
    "    0 : 1982 \n",
    "      :\n",
    "      :\n",
    "    34 : 2016\n",
    "    \n",
    "    <team_id>\n",
    "    1 : Nexen heroes\n",
    "    2 : Doosan\n",
    "    3 : Lotte\n",
    "    4 : Samsung\n",
    "    5 : Hanhwa\n",
    "    6 : KIA\n",
    "    7 : KT\n",
    "    8 : LG twins\n",
    "    9 : NC dinos\n",
    "    10 : SK wyberns\n",
    "    \"\"\"\n",
    "    \n",
    "    url = \"http://www.koreabaseball.com/Record/Player/Runner/Basic.aspx\"\n",
    "    driver = webdriver.PhantomJS()\n",
    "    driver.get(url)\n",
    "    \n",
    "    # click season\n",
    "    driver.find_element_by_css_selector('#cphContainer_cphContents_ddlSeason_ddlSeason').\\\n",
    "            find_elements_by_css_selector('option')[season_id].click()\n",
    "    time.sleep(api_delay_term)\n",
    "    # click team\n",
    "    driver.find_element_by_css_selector('#cphContainer_cphContents_ddlTeam_ddlTeam').\\\n",
    "            find_elements_by_css_selector('option')[team_id].click()\n",
    "    time.sleep(api_delay_term)\n",
    "    elements = driver.find_elements_by_css_selector(\".record_result tr\")\n",
    "    elements = elements[1:len(elements)+1]\n",
    "    \n",
    "    running_df = pd.DataFrame(columns=[\n",
    "        'rank', 'name', 'team', 'G', 'SBA', 'SB', 'CS', 'SB%', 'OOB',\n",
    "        'PKO'\n",
    "    ])\n",
    "    \n",
    "    for element in elements:\n",
    "        tmp_dict  = {\n",
    "            'rank' : element.find_elements_by_css_selector('td')[0].text,\n",
    "            'name' : element.find_elements_by_css_selector('td')[1].text,\n",
    "            'team' : element.find_elements_by_css_selector('td')[2].text,\n",
    "            'G' : element.find_elements_by_css_selector('td')[3].text,\n",
    "            'SBA' : element.find_elements_by_css_selector('td')[4].text,\n",
    "            'SB' : element.find_elements_by_css_selector('td')[5].text,\n",
    "            'CS' : element.find_elements_by_css_selector('td')[6].text,\n",
    "            'SB%' : element.find_elements_by_css_selector('td')[7].text,\n",
    "            'OOB' : element.find_elements_by_css_selector('td')[8].text,\n",
    "            'PKO' : element.find_elements_by_css_selector('td')[9].text,\n",
    "        }\n",
    "        running_df.loc[len(running_df)] = tmp_dict\n",
    "    # close webdriver\n",
    "    driver.close()\n",
    "    return running_df"
   ]
  }
 ],
 "metadata": {
  "kernelspec": {
   "display_name": "Python 3",
   "language": "python",
   "name": "python3"
  },
  "language_info": {
   "codemirror_mode": {
    "name": "ipython",
    "version": 3
   },
   "file_extension": ".py",
   "mimetype": "text/x-python",
   "name": "python",
   "nbconvert_exporter": "python",
   "pygments_lexer": "ipython3",
   "version": "3.5.1"
  }
 },
 "nbformat": 4,
 "nbformat_minor": 0
}
