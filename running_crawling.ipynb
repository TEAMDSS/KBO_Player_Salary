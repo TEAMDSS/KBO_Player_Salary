{
 "cells": [
  {
   "cell_type": "code",
   "execution_count": 1,
   "metadata": {
    "collapsed": true
   },
   "outputs": [],
   "source": [
    "# import package\n",
    "import pandas as pd\n",
    "import time\n",
    "import pickle\n",
    "from selenium import webdriver\n",
    "import glob\n",
    "import os"
   ]
  },
  {
   "cell_type": "code",
   "execution_count": 2,
   "metadata": {
    "collapsed": true
   },
   "outputs": [],
   "source": [
    "api_delay_term = 3"
   ]
  },
  {
   "cell_type": "code",
   "execution_count": 6,
   "metadata": {
    "collapsed": true
   },
   "outputs": [],
   "source": [
    "# crawling_runner\n",
    "def crawling_runner(season_id, team_id):\n",
    "    \"\"\"\n",
    "    season_id = 0 ~ 34\n",
    "    team_id = 1 ~ 10\n",
    "    ------------------------------------------------------------------------------------\n",
    "    <season_id>\n",
    "    0 : 2002 ~ 14 : 2016\n",
    "    \n",
    "    <team_id> ==> It can be different from several season.\n",
    "    1 : Nexen heroes\n",
    "    2 : Doosan\n",
    "    3 : Lotte\n",
    "    4 : Samsung\n",
    "    5 : Hanhwa\n",
    "    6 : KIA\n",
    "    7 : KT\n",
    "    8 : LG twins\n",
    "    9 : NC dinos\n",
    "    10 : SK wyberns\n",
    "    \"\"\"\n",
    "    driver = webdriver.Firefox()\n",
    "    url = \"http://www.koreabaseball.com/Record/Player/Runner/Basic.aspx\"\n",
    "    driver.get(url)\n",
    "    \n",
    "    # click season\n",
    "    driver.find_element_by_css_selector('#cphContainer_cphContents_ddlSeason_ddlSeason').\\\n",
    "            find_elements_by_css_selector('option')[season_id].click()\n",
    "    time.sleep(api_delay_term)\n",
    "    \n",
    "    # click team\n",
    "    driver.find_element_by_css_selector('#cphContainer_cphContents_ddlTeam_ddlTeam').\\\n",
    "            find_elements_by_css_selector('option')[team_id].click()\n",
    "    time.sleep(api_delay_term)\n",
    "    \n",
    "    # get page number\n",
    "    page_elements = driver.find_elements_by_css_selector(\".paging02 a\")\n",
    "    page_number = len(page_elements)\n",
    "    if page_number == 1:\n",
    "        page_number = page_number\n",
    "    \n",
    "    if page_number > 1:\n",
    "        page_number = page_number -2\n",
    "        \n",
    "    # make empty dataframe\n",
    "    runner_df = pd.DataFrame(columns=[\n",
    "        'rank', 'name', 'team', 'G', 'SBA', 'SB', 'CS', 'SB%', 'OOB',\n",
    "        'PKO'\n",
    "    ])\n",
    "    \n",
    "    # if having one page\n",
    "    if page_number == 1:\n",
    "        elements = driver.find_elements_by_css_selector(\".record_result tr\")\n",
    "        elements = elements[1:len(elements)+1]\n",
    "        \n",
    "        for element in elements:\n",
    "            tmp_dict  = {\n",
    "                'rank' : element.find_elements_by_css_selector('td')[0].text,\n",
    "                'name' : element.find_elements_by_css_selector('td')[1].text,\n",
    "                'team' : element.find_elements_by_css_selector('td')[2].text,\n",
    "                'G' : element.find_elements_by_css_selector('td')[3].text,\n",
    "                'SBA' : element.find_elements_by_css_selector('td')[4].text,\n",
    "                'SB' : element.find_elements_by_css_selector('td')[5].text,\n",
    "                'CS' : element.find_elements_by_css_selector('td')[6].text,\n",
    "                'SB%' : element.find_elements_by_css_selector('td')[7].text,\n",
    "                'OOB' : element.find_elements_by_css_selector('td')[8].text,\n",
    "                'PKO' : element.find_elements_by_css_selector('td')[9].text,\n",
    "            }\n",
    "            runner_df.loc[len(runner_df)] = tmp_dict\n",
    "        \n",
    "    # if having other more pages\n",
    "    if page_number > 1:\n",
    "        for page in range(1, page_number+1):\n",
    "            driver.find_element_by_css_selector('#cphContainer_cphContents_ucPager_btnNo' + str(page)).click()\n",
    "            time.sleep(api_delay_term)\n",
    "            \n",
    "            elements = driver.find_elements_by_css_selector(\".record_result tr\")\n",
    "            elements = elements[1:len(elements)+1]\n",
    "            \n",
    "            for element in elements:\n",
    "                tmp_dict  = {\n",
    "                    'rank' : element.find_elements_by_css_selector('td')[0].text,\n",
    "                    'name' : element.find_elements_by_css_selector('td')[1].text,\n",
    "                    'team' : element.find_elements_by_css_selector('td')[2].text,\n",
    "                    'G' : element.find_elements_by_css_selector('td')[3].text,\n",
    "                    'SBA' : element.find_elements_by_css_selector('td')[4].text,\n",
    "                    'SB' : element.find_elements_by_css_selector('td')[5].text,\n",
    "                    'CS' : element.find_elements_by_css_selector('td')[6].text,\n",
    "                    'SB%' : element.find_elements_by_css_selector('td')[7].text,\n",
    "                    'OOB' : element.find_elements_by_css_selector('td')[8].text,\n",
    "                    'PKO' : element.find_elements_by_css_selector('td')[9].text,\n",
    "                }\n",
    "                runner_df.loc[len(runner_df)] = tmp_dict\n",
    "\n",
    "    return runner_df"
   ]
  },
  {
   "cell_type": "code",
   "execution_count": 5,
   "metadata": {
    "collapsed": false
   },
   "outputs": [],
   "source": [
    "nexen_running_df = crawling_runner(13, 1)"
   ]
  },
  {
   "cell_type": "code",
   "execution_count": 7,
   "metadata": {
    "collapsed": true
   },
   "outputs": [],
   "source": [
    "nexen_running_df.to_csv(\"nexen_running.csv\",encoding='utf-8')"
   ]
  },
  {
   "cell_type": "code",
   "execution_count": 8,
   "metadata": {
    "collapsed": false
   },
   "outputs": [
    {
     "data": {
      "text/plain": [
       "231.96908617019653"
      ]
     },
     "execution_count": 8,
     "metadata": {},
     "output_type": "execute_result"
    }
   ],
   "source": [
    "start_time = time.time()\n",
    "doosan_running_df = crawling_runner(13,2)\n",
    "lotte_running_df = crawling_runner(13,3)\n",
    "samsung_running_df = crawling_runner(13,4)\n",
    "hanhwa_running_df = crawling_runner(13,5)\n",
    "KIA_running_df = crawling_runner(13,6)\n",
    "KT_running_df = crawling_runner(13,7)\n",
    "LG_running_df = crawling_runner(13,8)\n",
    "NC_running_df = crawling_runner(13,9)\n",
    "SK_running_df = crawling_runner(13,10)\n",
    "end_time = time.time()\n",
    "\n",
    "end_time-start_time"
   ]
  },
  {
   "cell_type": "code",
   "execution_count": 9,
   "metadata": {
    "collapsed": true
   },
   "outputs": [],
   "source": [
    "doosan_running_df.to_csv(\"doosan_running.csv\",encoding='utf-8')\n",
    "lotte_running_df.to_csv(\"lotte_running.csv\",encoding='utf-8')\n",
    "samsung_running_df.to_csv(\"samsung_running.csv\",encoding='utf-8')\n",
    "hanhwa_running_df.to_csv(\"hanhwa_running.csv\",encoding='utf-8')\n",
    "KIA_running_df.to_csv(\"KIA_running.csv\",encoding='utf-8')\n",
    "KT_running_df.to_csv(\"KT_running.csv\",encoding='utf-8')\n",
    "LG_running_df.to_csv(\"LG_running.csv\",encoding='utf-8')\n",
    "NC_running_df.to_csv(\"NC_running.csv\",encoding='utf-8')\n",
    "SK_running_df.to_csv(\"SK_running.csv\",encoding='utf-8')"
   ]
  },
  {
   "cell_type": "code",
   "execution_count": null,
   "metadata": {
    "collapsed": true
   },
   "outputs": [],
   "source": []
  }
 ],
 "metadata": {
  "kernelspec": {
   "display_name": "Python 3",
   "language": "python",
   "name": "python3"
  },
  "language_info": {
   "codemirror_mode": {
    "name": "ipython",
    "version": 3
   },
   "file_extension": ".py",
   "mimetype": "text/x-python",
   "name": "python",
   "nbconvert_exporter": "python",
   "pygments_lexer": "ipython3",
   "version": "3.5.1"
  }
 },
 "nbformat": 4,
 "nbformat_minor": 0
}
