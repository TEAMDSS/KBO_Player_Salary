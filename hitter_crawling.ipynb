{
 "cells": [
  {
   "cell_type": "code",
   "execution_count": 1,
   "metadata": {
    "collapsed": true
   },
   "outputs": [],
   "source": [
    "# import package\n",
    "import pandas as pd\n",
    "import time\n",
    "import pickle\n",
    "from selenium import webdriver\n",
    "import glob\n",
    "import os"
   ]
  },
  {
   "cell_type": "code",
   "execution_count": 2,
   "metadata": {
    "collapsed": true
   },
   "outputs": [],
   "source": [
    "api_delay_term = 3"
   ]
  },
  {
   "cell_type": "code",
   "execution_count": 3,
   "metadata": {
    "collapsed": true
   },
   "outputs": [],
   "source": [
    "# crawling_hitter_basic\n",
    "def crawling_hitter_basic(season_id, team_id):\n",
    "    \"\"\"\n",
    "    season_id = 0 ~ 34\n",
    "    team_id = 1 ~ 10\n",
    "    ------------------------------------------------------------------------------------\n",
    "    <season_id>\n",
    "    0 : 1982 ~ 34 : 2016\n",
    "    \n",
    "    <team_id>\n",
    "    1 : Nexen heroes\n",
    "    2 : Doosan\n",
    "    3 : Lotte\n",
    "    4 : Samsung\n",
    "    5 : Hanhwa\n",
    "    6 : KIA\n",
    "    7 : KT\n",
    "    8 : LG twins\n",
    "    9 : NC dinos\n",
    "    10 : SK wyberns\n",
    "    \"\"\"\n",
    "    \n",
    "    url = \"http://www.koreabaseball.com/Record/Player/HitterBasic/Basic1.aspx\"\n",
    "    driver = webdriver.PhantomJS()\n",
    "    driver.get(url)\n",
    "    \n",
    "    # click season\n",
    "    driver.find_element_by_css_selector('#cphContainer_cphContents_ddlSeason_ddlSeason').\\\n",
    "            find_elements_by_css_selector('option')[season_id].click()\n",
    "    time.sleep(api_delay_term)\n",
    "    # click team\n",
    "    driver.find_element_by_css_selector('#cphContainer_cphContents_ddlTeam_ddlTeam').\\\n",
    "            find_elements_by_css_selector('option')[team_id].click()\n",
    "    time.sleep(api_delay_term)\n",
    "    elements = driver.find_elements_by_css_selector(\".record_result tr\")\n",
    "    elements = elements[1:len(elements)+1]\n",
    "    \n",
    "    hitter_basic_df = pd.DataFrame(columns=[\n",
    "        'rank', 'name', 'team', 'AVG', 'G', 'PA', 'AB', 'R', 'H', '2B',\n",
    "        '3B', 'HR', 'TB', 'RBI', 'SAC', 'SF'\n",
    "    ])\n",
    "    \n",
    "    for element in elements:\n",
    "        tmp_dict  = {\n",
    "            'rank' : element.find_elements_by_css_selector('td')[0].text,\n",
    "            'name' : element.find_elements_by_css_selector('td')[1].text,\n",
    "            'team' : element.find_elements_by_css_selector('td')[2].text,\n",
    "            'AVG' : element.find_elements_by_css_selector('td')[3].text,\n",
    "            'G' : element.find_elements_by_css_selector('td')[4].text,\n",
    "            'PA' : element.find_elements_by_css_selector('td')[5].text,\n",
    "            'AB' : element.find_elements_by_css_selector('td')[6].text,\n",
    "            'R' : element.find_elements_by_css_selector('td')[7].text,\n",
    "            'H' : element.find_elements_by_css_selector('td')[8].text,\n",
    "            '2B' : element.find_elements_by_css_selector('td')[9].text,\n",
    "            '3B' : element.find_elements_by_css_selector('td')[10].text,\n",
    "            'HR' : element.find_elements_by_css_selector('td')[11].text,\n",
    "            'TB' : element.find_elements_by_css_selector('td')[12].text,\n",
    "            'RBI' : element.find_elements_by_css_selector('td')[13].text,\n",
    "            'SAC' : element.find_elements_by_css_selector('td')[14].text,\n",
    "            'SF' : element.find_elements_by_css_selector('td')[15].text,\n",
    "        }\n",
    "        hitter_basic_df.loc[len(hitter_basic_df)] = tmp_dict\n",
    "    # close webdriver\n",
    "    driver.close()\n",
    "    return hitter_basic_df"
   ]
  },
  {
   "cell_type": "code",
   "execution_count": 4,
   "metadata": {
    "collapsed": true
   },
   "outputs": [],
   "source": [
    "nexen_hb_15_df = crawling_hitter_basic(33,1)"
   ]
  },
  {
   "cell_type": "code",
   "execution_count": 5,
   "metadata": {
    "collapsed": true
   },
   "outputs": [],
   "source": [
    "nexen_hb_15_df.to_csv(\"nexen_hb_15.csv\",encoding='utf-8')"
   ]
  },
  {
   "cell_type": "code",
   "execution_count": 6,
   "metadata": {
    "collapsed": false
   },
   "outputs": [
    {
     "data": {
      "text/plain": [
       "204.3647439479828"
      ]
     },
     "execution_count": 6,
     "metadata": {},
     "output_type": "execute_result"
    }
   ],
   "source": [
    "start_time = time.time()\n",
    "doosan_hb_15_df = crawling_hitter_basic(33,2)\n",
    "lotte_hb_15_df = crawling_hitter_basic(33,3)\n",
    "samsung_hb_15_df = crawling_hitter_basic(33,4)\n",
    "hanhwa_hb_15_df = crawling_hitter_basic(33,5)\n",
    "KIA_hb_15_df = crawling_hitter_basic(33,6)\n",
    "KT_hb_15_df = crawling_hitter_basic(33,7)\n",
    "LG_hb_15_df = crawling_hitter_basic(33,8)\n",
    "NC_hb_15_df = crawling_hitter_basic(33,9)\n",
    "SK_hb_15_df = crawling_hitter_basic(33,10)\n",
    "end_time = time.time()\n",
    "\n",
    "end_time-start_time"
   ]
  },
  {
   "cell_type": "code",
   "execution_count": 7,
   "metadata": {
    "collapsed": true
   },
   "outputs": [],
   "source": [
    "doosan_hb_15_df.to_csv(\"doosan_hb_15.csv\",encoding='utf-8')\n",
    "lotte_hb_15_df.to_csv(\"lotte_hb_15.csv\",encoding='utf-8')\n",
    "samsung_hb_15_df.to_csv(\"samsung_hb_15.csv\",encoding='utf-8')\n",
    "hanhwa_hb_15_df.to_csv(\"hanhwa_hb_15.csv\",encoding='utf-8')\n",
    "KIA_hb_15_df.to_csv(\"KIA_hb_15.csv\",encoding='utf-8')\n",
    "KT_hb_15_df.to_csv(\"KT_hb_15.csv\",encoding='utf-8')\n",
    "LG_hb_15_df.to_csv(\"LG_hb_15.csv\",encoding='utf-8')\n",
    "NC_hb_15_df.to_csv(\"NC_hb_15.csv\",encoding='utf-8')\n",
    "SK_hb_15_df.to_csv(\"SK_hb_15.csv\",encoding='utf-8')"
   ]
  },
  {
   "cell_type": "code",
   "execution_count": 8,
   "metadata": {
    "collapsed": true
   },
   "outputs": [],
   "source": [
    "# crawling_hitter_detail\n",
    "def crawling_hitter_detail(season_id, team_id):\n",
    "    \"\"\"\n",
    "    season_id = 0 ~ 34\n",
    "    team_id = 1 ~ 10\n",
    "    ------------------------------------------------------------------------------------\n",
    "    <season_id>\n",
    "    0 : 1982 ~ 34 : 2016\n",
    "    \n",
    "    <team_id>\n",
    "    1 : Nexen heroes\n",
    "    2 : Doosan\n",
    "    3 : Lotte\n",
    "    4 : Samsung\n",
    "    5 : Hanhwa\n",
    "    6 : KIA\n",
    "    7 : KT\n",
    "    8 : LG twins\n",
    "    9 : NC dinos\n",
    "    10 : SK wyberns\n",
    "    \"\"\"\n",
    "    \n",
    "    url = \"http://www.koreabaseball.com/Record/Player/HitterBasic/Detail1.aspx\"\n",
    "    driver = webdriver.PhantomJS()\n",
    "    driver.get(url)\n",
    "    \n",
    "    # click season\n",
    "    driver.find_element_by_css_selector('#cphContainer_cphContents_ddlSeason_ddlSeason').\\\n",
    "            find_elements_by_css_selector('option')[season_id].click()\n",
    "    time.sleep(api_delay_term)\n",
    "    # click team\n",
    "    driver.find_element_by_css_selector('#cphContainer_cphContents_ddlTeam_ddlTeam').\\\n",
    "            find_elements_by_css_selector('option')[team_id].click()\n",
    "    time.sleep(api_delay_term)\n",
    "    elements = driver.find_elements_by_css_selector(\".record_result tr\")\n",
    "    elements = elements[1:len(elements)+1]\n",
    "    \n",
    "    hitter_detail_df = pd.DataFrame(columns=[\n",
    "        'rank', 'name', 'team', 'AVG', 'XBH', 'GO', 'AO', 'GO/AO', 'GW_RBI',\n",
    "        'BB/K', 'P/PA', 'ISOP', 'XR', 'GPA'\n",
    "    ])\n",
    "    \n",
    "    for element in elements:\n",
    "        tmp_dict  = {\n",
    "            'rank' : element.find_elements_by_css_selector('td')[0].text,\n",
    "            'name' : element.find_elements_by_css_selector('td')[1].text,\n",
    "            'team' : element.find_elements_by_css_selector('td')[2].text,\n",
    "            'AVG' : element.find_elements_by_css_selector('td')[3].text,\n",
    "            'XBH' : element.find_elements_by_css_selector('td')[4].text,\n",
    "            'GO' : element.find_elements_by_css_selector('td')[5].text,\n",
    "            'AO' : element.find_elements_by_css_selector('td')[6].text,\n",
    "            'GO/AO' : element.find_elements_by_css_selector('td')[7].text,\n",
    "            'GW_RBI' : element.find_elements_by_css_selector('td')[8].text,\n",
    "            'BB/K' : element.find_elements_by_css_selector('td')[9].text,\n",
    "            'P/PA' : element.find_elements_by_css_selector('td')[10].text,\n",
    "            'ISOP' : element.find_elements_by_css_selector('td')[11].text,\n",
    "            'XR' : element.find_elements_by_css_selector('td')[12].text,\n",
    "            'GPA' : element.find_elements_by_css_selector('td')[13].text,\n",
    "        }\n",
    "        hitter_detail_df.loc[len(hitter_detail_df)] = tmp_dict\n",
    "    # close webdriver\n",
    "    driver.close()\n",
    "    return hitter_detail_df"
   ]
  },
  {
   "cell_type": "code",
   "execution_count": 9,
   "metadata": {
    "collapsed": true
   },
   "outputs": [],
   "source": [
    "nexen_hd_15_df = crawling_hitter_detail(33,1)"
   ]
  },
  {
   "cell_type": "code",
   "execution_count": 10,
   "metadata": {
    "collapsed": true
   },
   "outputs": [],
   "source": [
    "nexen_hd_15_df.to_csv(\"nexen_hd_15.csv\",encoding='utf-8')"
   ]
  },
  {
   "cell_type": "code",
   "execution_count": 11,
   "metadata": {
    "collapsed": false
   },
   "outputs": [
    {
     "data": {
      "text/plain": [
       "195.4246621131897"
      ]
     },
     "execution_count": 11,
     "metadata": {},
     "output_type": "execute_result"
    }
   ],
   "source": [
    "start_time = time.time()\n",
    "doosan_hd_15_df = crawling_hitter_detail(33,2)\n",
    "lotte_hd_15_df = crawling_hitter_detail(33,3)\n",
    "samsung_hd_15_df = crawling_hitter_detail(33,4)\n",
    "hanhwa_hd_15_df = crawling_hitter_detail(33,5)\n",
    "KIA_hd_15_df = crawling_hitter_detail(33,6)\n",
    "KT_hd_15_df = crawling_hitter_detail(33,7)\n",
    "LG_hd_15_df = crawling_hitter_detail(33,8)\n",
    "NC_hd_15_df = crawling_hitter_detail(33,9)\n",
    "SK_hd_15_df = crawling_hitter_detail(33,10)\n",
    "end_time = time.time()\n",
    "\n",
    "end_time-start_time"
   ]
  },
  {
   "cell_type": "code",
   "execution_count": 12,
   "metadata": {
    "collapsed": true
   },
   "outputs": [],
   "source": [
    "doosan_hd_15_df.to_csv(\"doosan_hd_15.csv\",encoding='utf-8')\n",
    "lotte_hd_15_df.to_csv(\"lotte_hd_15.csv\",encoding='utf-8')\n",
    "samsung_hd_15_df.to_csv(\"samsung_hd_15.csv\",encoding='utf-8')\n",
    "hanhwa_hd_15_df.to_csv(\"hanhwa_hd_15.csv\",encoding='utf-8')\n",
    "KIA_hd_15_df.to_csv(\"KIA_hd_15.csv\",encoding='utf-8')\n",
    "KT_hd_15_df.to_csv(\"KT_hd_15.csv\",encoding='utf-8')\n",
    "LG_hd_15_df.to_csv(\"LG_hd_15.csv\",encoding='utf-8')\n",
    "NC_hd_15_df.to_csv(\"NC_hd_15.csv\",encoding='utf-8')\n",
    "SK_hd_15_df.to_csv(\"SK_hd_15.csv\",encoding='utf-8')"
   ]
  },
  {
   "cell_type": "code",
   "execution_count": null,
   "metadata": {
    "collapsed": true
   },
   "outputs": [],
   "source": []
  }
 ],
 "metadata": {
  "kernelspec": {
   "display_name": "Python 3",
   "language": "python",
   "name": "python3"
  },
  "language_info": {
   "codemirror_mode": {
    "name": "ipython",
    "version": 3
   },
   "file_extension": ".py",
   "mimetype": "text/x-python",
   "name": "python",
   "nbconvert_exporter": "python",
   "pygments_lexer": "ipython3",
   "version": "3.5.1"
  }
 },
 "nbformat": 4,
 "nbformat_minor": 0
}
