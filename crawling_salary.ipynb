{
 "cells": [
  {
   "cell_type": "code",
   "execution_count": 3,
   "metadata": {
    "collapsed": true
   },
   "outputs": [],
   "source": [
    "# import package\n",
    "import pandas as pd\n",
    "import time\n",
    "import pickle\n",
    "from selenium import webdriver\n",
    "import glob\n",
    "import os\n",
    "import csv"
   ]
  },
  {
   "cell_type": "code",
   "execution_count": 18,
   "metadata": {
    "collapsed": true
   },
   "outputs": [],
   "source": [
    "api_delay_term = 5"
   ]
  },
  {
   "cell_type": "code",
   "execution_count": 4,
   "metadata": {
    "collapsed": true
   },
   "outputs": [],
   "source": [
    "# save players_url\n",
    "def get_players_url(season_id, team_id):\n",
    "    url = \"http://www.koreabaseball.com/Record/Player/HitterBasic/Basic1.aspx\"\n",
    "    driver = webdriver.PhantomJS()\n",
    "    driver.get(url)\n",
    "    \n",
    "    \n",
    "    driver.find_element_by_css_selector('#cphContainer_cphContents_ddlSeason_ddlSeason').\\\n",
    "                find_elements_by_css_selector('option')[season_id].click()\n",
    "\n",
    "    driver.find_element_by_css_selector('#cphContainer_cphContents_ddlTeam_ddlTeam').\\\n",
    "                find_elements_by_css_selector('option')[team_id].click()\n",
    "    \n",
    "        \n",
    "    elements = driver.find_elements_by_css_selector(\".record_result tr\")\n",
    "    elements = elements[1:len(elements)+1]\n",
    "    \n",
    "    \n",
    "    \n",
    "    url_df = pd.DataFrame(columns=['url'])\n",
    "    \n",
    "    for element in elements:\n",
    "        tmp_dict = {\n",
    "            \"url\" : element.find_element_by_css_selector(\"a\").get_attribute(\"href\")\n",
    "            }\n",
    "        url_df.loc[len(url_df)] = tmp_dict\n",
    "        \n",
    "    driver.close()\n",
    "    \n",
    "    return url_df\n",
    "\n",
    "    "
   ]
  },
  {
   "cell_type": "code",
   "execution_count": null,
   "metadata": {
    "collapsed": false
   },
   "outputs": [],
   "source": [
    "get_players_url(33, 1)"
   ]
  },
  {
   "cell_type": "code",
   "execution_count": null,
   "metadata": {
    "collapsed": false
   },
   "outputs": [],
   "source": [
    "for number in range(0, len(nexen_url_df)):\n",
    "    url = nexen_url_df[\"url\"][number]\n",
    "    print(url)"
   ]
  },
  {
   "cell_type": "code",
   "execution_count": null,
   "metadata": {
    "collapsed": false
   },
   "outputs": [],
   "source": [
    "url = nexen_url_df.values"
   ]
  },
  {
   "cell_type": "code",
   "execution_count": null,
   "metadata": {
    "collapsed": false
   },
   "outputs": [],
   "source": [
    "len(elements)"
   ]
  },
  {
   "cell_type": "code",
   "execution_count": 22,
   "metadata": {
    "collapsed": false
   },
   "outputs": [],
   "source": [
    "def crawling_player_info(season_id, team_id):\n",
    "    \"\"\"\n",
    "    season_id = 0 ~ 34\n",
    "    team_id = 1 ~ 10\n",
    "    ------------------------------------------------------------------------------------\n",
    "    <season_id>\n",
    "    0 : 1982 \n",
    "      :\n",
    "      :\n",
    "    34 : 2016\n",
    "    \n",
    "    <team_id>\n",
    "    1 : Nexen heroes\n",
    "    2 : Doosan\n",
    "    3 : Lotte\n",
    "    4 : Samsung\n",
    "    5 : Hanhwa\n",
    "    6 : KIA\n",
    "    7 : KT\n",
    "    8 : LG twins\n",
    "    9 : NC dinos\n",
    "    10 : SK wyberns\n",
    "    \"\"\"\n",
    "    # get each player's url\n",
    "    start_time = time.time()\n",
    "    get_players_url(season_id, team_id)\n",
    "    print(\"get_url_success\")\n",
    "    \n",
    "    # make player_info_df\n",
    "    player_info_df = pd.DataFrame(columns=[\n",
    "                    \"p_number\", \"name\", \"contract\", \"salary\"\n",
    "            ])\n",
    "    driver1 = webdriver.Firefox()\n",
    "    \n",
    "    # connect each url & scrap player info\n",
    "    for number in range(0, len(url_df)):\n",
    "        player_url = url_df['url'][number]\n",
    "        print(player_url)\n",
    "        print(\"check if not to scrap url\")\n",
    "        try:\n",
    "            driver1.get(player_url)\n",
    "            time.sleep(api_delay_term)\n",
    "            player_info = driver1.find_elements_by_css_selector(\".player_basic ul li\")\n",
    "\n",
    "            tmp_dict = {\n",
    "                        \"p_number\" : player_url.split(\"=\")[1],\n",
    "                        \"name\" : player_info[0].text.split(\": \")[1],\n",
    "                        \"contract\" : player_info[6].text.split(\": \")[1],\n",
    "                        \"salary\" : player_info[7].text.split(\": \")[1],\n",
    "                        }\n",
    "            player_info_df.loc[len(player_info_df)] = tmp_dict\n",
    "            print(\"scrap_done\")\n",
    "\n",
    "            driver1.close()\n",
    "            print(\"close it\")\n",
    "            end_time = time.time()\n",
    "            print(end_time - start_time)\n",
    "        \n",
    "        except remotedisconnected:\n",
    "            if number:\n",
    "                raise\n",
    "        \n",
    "    return player_info_df"
   ]
  },
  {
   "cell_type": "code",
   "execution_count": null,
   "metadata": {
    "collapsed": false
   },
   "outputs": [],
   "source": [
    "# url_df['url'].str.contains(\"/retired/\")"
   ]
  },
  {
   "cell_type": "code",
   "execution_count": 24,
   "metadata": {
    "collapsed": false
   },
   "outputs": [
    {
     "name": "stdout",
     "output_type": "stream",
     "text": [
      "선수 url 가져오기 성공\n",
      "http://www.koreabaseball.com/Record/Player/HitterDetail/Basic.aspx?playerId=72443\n",
      "check if not to scrap url\n",
      "최형우\n",
      "5000만원\n",
      "70000만원\n",
      "done and close it\n",
      "http://www.koreabaseball.com/Record/Player/HitterDetail/Basic.aspx?playerId=76509\n",
      "check if not to scrap url\n",
      "김문호\n",
      "12000만원\n",
      "7000만원\n",
      "done and close it\n",
      "http://www.koreabaseball.com/Record/Player/HitterDetail/Basic.aspx?playerId=64914\n",
      "check if not to scrap url\n",
      "테임즈\n",
      "50000달러\n",
      "1250000달러\n",
      "done and close it\n",
      "http://www.koreabaseball.com/Record/Player/HitterDetail/Basic.aspx?playerId=74163\n",
      "check if not to scrap url\n",
      "이용규\n"
     ]
    },
    {
     "ename": "IndexError",
     "evalue": "list index out of range",
     "output_type": "error",
     "traceback": [
      "\u001b[1;31m---------------------------------------------------------------------------\u001b[0m",
      "\u001b[1;31mIndexError\u001b[0m                                Traceback (most recent call last)",
      "\u001b[1;32m<ipython-input-24-085c0a2a8257>\u001b[0m in \u001b[0;36m<module>\u001b[1;34m()\u001b[0m\n\u001b[0;32m     11\u001b[0m     \u001b[0mplayer_info\u001b[0m \u001b[1;33m=\u001b[0m \u001b[0mdriver1\u001b[0m\u001b[1;33m.\u001b[0m\u001b[0mfind_elements_by_css_selector\u001b[0m\u001b[1;33m(\u001b[0m\u001b[1;34m\".player_basic ul li\"\u001b[0m\u001b[1;33m)\u001b[0m\u001b[1;33m\u001b[0m\u001b[0m\n\u001b[0;32m     12\u001b[0m     \u001b[0mprint\u001b[0m\u001b[1;33m(\u001b[0m\u001b[0mplayer_info\u001b[0m\u001b[1;33m[\u001b[0m\u001b[1;36m0\u001b[0m\u001b[1;33m]\u001b[0m\u001b[1;33m.\u001b[0m\u001b[0mtext\u001b[0m\u001b[1;33m.\u001b[0m\u001b[0msplit\u001b[0m\u001b[1;33m(\u001b[0m\u001b[1;34m\": \"\u001b[0m\u001b[1;33m)\u001b[0m\u001b[1;33m[\u001b[0m\u001b[1;36m1\u001b[0m\u001b[1;33m]\u001b[0m\u001b[1;33m)\u001b[0m\u001b[1;33m\u001b[0m\u001b[0m\n\u001b[1;32m---> 13\u001b[1;33m     \u001b[0mprint\u001b[0m\u001b[1;33m(\u001b[0m\u001b[0mplayer_info\u001b[0m\u001b[1;33m[\u001b[0m\u001b[1;36m6\u001b[0m\u001b[1;33m]\u001b[0m\u001b[1;33m.\u001b[0m\u001b[0mtext\u001b[0m\u001b[1;33m.\u001b[0m\u001b[0msplit\u001b[0m\u001b[1;33m(\u001b[0m\u001b[1;34m\": \"\u001b[0m\u001b[1;33m)\u001b[0m\u001b[1;33m[\u001b[0m\u001b[1;36m1\u001b[0m\u001b[1;33m]\u001b[0m\u001b[1;33m)\u001b[0m\u001b[1;33m\u001b[0m\u001b[0m\n\u001b[0m\u001b[0;32m     14\u001b[0m     \u001b[0mprint\u001b[0m\u001b[1;33m(\u001b[0m\u001b[0mplayer_info\u001b[0m\u001b[1;33m[\u001b[0m\u001b[1;36m7\u001b[0m\u001b[1;33m]\u001b[0m\u001b[1;33m.\u001b[0m\u001b[0mtext\u001b[0m\u001b[1;33m.\u001b[0m\u001b[0msplit\u001b[0m\u001b[1;33m(\u001b[0m\u001b[1;34m\": \"\u001b[0m\u001b[1;33m)\u001b[0m\u001b[1;33m[\u001b[0m\u001b[1;36m1\u001b[0m\u001b[1;33m]\u001b[0m\u001b[1;33m)\u001b[0m\u001b[1;33m\u001b[0m\u001b[0m\n\u001b[0;32m     15\u001b[0m     \u001b[0mdriver1\u001b[0m\u001b[1;33m.\u001b[0m\u001b[0mclose\u001b[0m\u001b[1;33m(\u001b[0m\u001b[1;33m)\u001b[0m\u001b[1;33m\u001b[0m\u001b[0m\n",
      "\u001b[1;31mIndexError\u001b[0m: list index out of range"
     ]
    }
   ],
   "source": [
    "start_time = time.time()\n",
    "url_df = get_players_url(33, 1)\n",
    "print(\"선수 url 가져오기 성공\")\n",
    "\n",
    "for number in range(0, 5):\n",
    "    player_url = url_df['url'][number]\n",
    "    print(player_url)\n",
    "    print(\"check if not to scrap url\")\n",
    "    driver1 = webdriver.PhantomJS()\n",
    "    driver1.get(player_url)\n",
    "    player_info = driver1.find_elements_by_css_selector(\".player_basic ul li\")\n",
    "    print(player_info[0].text.split(\": \")[1])\n",
    "    print(player_info[6].text.split(\": \")[1])\n",
    "    print(player_info[7].text.split(\": \")[1])\n",
    "    driver1.close()\n",
    "    print(\"done and close it\")\n",
    "end_time = time.time()\n",
    "\n",
    "print(end_time - start_time)\n",
    "    "
   ]
  },
  {
   "cell_type": "code",
   "execution_count": 6,
   "metadata": {
    "collapsed": false
   },
   "outputs": [
    {
     "data": {
      "text/html": [
       "<div>\n",
       "<table border=\"1\" class=\"dataframe\">\n",
       "  <thead>\n",
       "    <tr style=\"text-align: right;\">\n",
       "      <th></th>\n",
       "      <th>url</th>\n",
       "    </tr>\n",
       "  </thead>\n",
       "  <tbody>\n",
       "    <tr>\n",
       "      <th>0</th>\n",
       "      <td>http://www.koreabaseball.com/Record/Player/Hit...</td>\n",
       "    </tr>\n",
       "    <tr>\n",
       "      <th>1</th>\n",
       "      <td>http://www.koreabaseball.com/Record/Player/Hit...</td>\n",
       "    </tr>\n",
       "    <tr>\n",
       "      <th>2</th>\n",
       "      <td>http://www.koreabaseball.com/Record/Player/Hit...</td>\n",
       "    </tr>\n",
       "    <tr>\n",
       "      <th>3</th>\n",
       "      <td>http://www.koreabaseball.com/Record/Player/Hit...</td>\n",
       "    </tr>\n",
       "    <tr>\n",
       "      <th>4</th>\n",
       "      <td>http://www.koreabaseball.com/Record/Player/Hit...</td>\n",
       "    </tr>\n",
       "    <tr>\n",
       "      <th>5</th>\n",
       "      <td>http://www.koreabaseball.com/Record/Player/Hit...</td>\n",
       "    </tr>\n",
       "    <tr>\n",
       "      <th>6</th>\n",
       "      <td>http://www.koreabaseball.com/Record/Player/Hit...</td>\n",
       "    </tr>\n",
       "    <tr>\n",
       "      <th>7</th>\n",
       "      <td>http://www.koreabaseball.com/Record/Player/Hit...</td>\n",
       "    </tr>\n",
       "    <tr>\n",
       "      <th>8</th>\n",
       "      <td>http://www.koreabaseball.com/Record/Player/Hit...</td>\n",
       "    </tr>\n",
       "    <tr>\n",
       "      <th>9</th>\n",
       "      <td>http://www.koreabaseball.com/Record/Player/Hit...</td>\n",
       "    </tr>\n",
       "    <tr>\n",
       "      <th>10</th>\n",
       "      <td>http://www.koreabaseball.com/Record/Player/Hit...</td>\n",
       "    </tr>\n",
       "    <tr>\n",
       "      <th>11</th>\n",
       "      <td>http://www.koreabaseball.com/Record/Player/Hit...</td>\n",
       "    </tr>\n",
       "    <tr>\n",
       "      <th>12</th>\n",
       "      <td>http://www.koreabaseball.com/Record/Player/Hit...</td>\n",
       "    </tr>\n",
       "    <tr>\n",
       "      <th>13</th>\n",
       "      <td>http://www.koreabaseball.com/Record/Player/Hit...</td>\n",
       "    </tr>\n",
       "    <tr>\n",
       "      <th>14</th>\n",
       "      <td>http://www.koreabaseball.com/Record/Player/Hit...</td>\n",
       "    </tr>\n",
       "    <tr>\n",
       "      <th>15</th>\n",
       "      <td>http://www.koreabaseball.com/Record/Player/Hit...</td>\n",
       "    </tr>\n",
       "    <tr>\n",
       "      <th>16</th>\n",
       "      <td>http://www.koreabaseball.com/Record/Player/Hit...</td>\n",
       "    </tr>\n",
       "    <tr>\n",
       "      <th>17</th>\n",
       "      <td>http://www.koreabaseball.com/Record/Player/Hit...</td>\n",
       "    </tr>\n",
       "    <tr>\n",
       "      <th>18</th>\n",
       "      <td>http://www.koreabaseball.com/Record/Player/Hit...</td>\n",
       "    </tr>\n",
       "    <tr>\n",
       "      <th>19</th>\n",
       "      <td>http://www.koreabaseball.com/Record/Player/Hit...</td>\n",
       "    </tr>\n",
       "    <tr>\n",
       "      <th>20</th>\n",
       "      <td>http://www.koreabaseball.com/Record/Player/Hit...</td>\n",
       "    </tr>\n",
       "    <tr>\n",
       "      <th>21</th>\n",
       "      <td>http://www.koreabaseball.com/Record/Player/Hit...</td>\n",
       "    </tr>\n",
       "    <tr>\n",
       "      <th>22</th>\n",
       "      <td>http://www.koreabaseball.com/Record/Player/Hit...</td>\n",
       "    </tr>\n",
       "    <tr>\n",
       "      <th>23</th>\n",
       "      <td>http://www.koreabaseball.com/Record/Player/Hit...</td>\n",
       "    </tr>\n",
       "    <tr>\n",
       "      <th>24</th>\n",
       "      <td>http://www.koreabaseball.com/Record/Player/Hit...</td>\n",
       "    </tr>\n",
       "    <tr>\n",
       "      <th>25</th>\n",
       "      <td>http://www.koreabaseball.com/Record/Player/Hit...</td>\n",
       "    </tr>\n",
       "    <tr>\n",
       "      <th>26</th>\n",
       "      <td>http://www.koreabaseball.com/Record/Player/Hit...</td>\n",
       "    </tr>\n",
       "    <tr>\n",
       "      <th>27</th>\n",
       "      <td>http://www.koreabaseball.com/Record/Player/Hit...</td>\n",
       "    </tr>\n",
       "    <tr>\n",
       "      <th>28</th>\n",
       "      <td>http://www.koreabaseball.com/Record/Player/Hit...</td>\n",
       "    </tr>\n",
       "    <tr>\n",
       "      <th>29</th>\n",
       "      <td>http://www.koreabaseball.com/Record/Player/Hit...</td>\n",
       "    </tr>\n",
       "  </tbody>\n",
       "</table>\n",
       "</div>"
      ],
      "text/plain": [
       "                                                  url\n",
       "0   http://www.koreabaseball.com/Record/Player/Hit...\n",
       "1   http://www.koreabaseball.com/Record/Player/Hit...\n",
       "2   http://www.koreabaseball.com/Record/Player/Hit...\n",
       "3   http://www.koreabaseball.com/Record/Player/Hit...\n",
       "4   http://www.koreabaseball.com/Record/Player/Hit...\n",
       "5   http://www.koreabaseball.com/Record/Player/Hit...\n",
       "6   http://www.koreabaseball.com/Record/Player/Hit...\n",
       "7   http://www.koreabaseball.com/Record/Player/Hit...\n",
       "8   http://www.koreabaseball.com/Record/Player/Hit...\n",
       "9   http://www.koreabaseball.com/Record/Player/Hit...\n",
       "10  http://www.koreabaseball.com/Record/Player/Hit...\n",
       "11  http://www.koreabaseball.com/Record/Player/Hit...\n",
       "12  http://www.koreabaseball.com/Record/Player/Hit...\n",
       "13  http://www.koreabaseball.com/Record/Player/Hit...\n",
       "14  http://www.koreabaseball.com/Record/Player/Hit...\n",
       "15  http://www.koreabaseball.com/Record/Player/Hit...\n",
       "16  http://www.koreabaseball.com/Record/Player/Hit...\n",
       "17  http://www.koreabaseball.com/Record/Player/Hit...\n",
       "18  http://www.koreabaseball.com/Record/Player/Hit...\n",
       "19  http://www.koreabaseball.com/Record/Player/Hit...\n",
       "20  http://www.koreabaseball.com/Record/Player/Hit...\n",
       "21  http://www.koreabaseball.com/Record/Player/Hit...\n",
       "22  http://www.koreabaseball.com/Record/Player/Hit...\n",
       "23  http://www.koreabaseball.com/Record/Player/Hit...\n",
       "24  http://www.koreabaseball.com/Record/Player/Hit...\n",
       "25  http://www.koreabaseball.com/Record/Player/Hit...\n",
       "26  http://www.koreabaseball.com/Record/Player/Hit...\n",
       "27  http://www.koreabaseball.com/Record/Player/Hit...\n",
       "28  http://www.koreabaseball.com/Record/Player/Hit...\n",
       "29  http://www.koreabaseball.com/Record/Player/Hit..."
      ]
     },
     "execution_count": 6,
     "metadata": {},
     "output_type": "execute_result"
    }
   ],
   "source": []
  },
  {
   "cell_type": "code",
   "execution_count": null,
   "metadata": {
    "collapsed": true
   },
   "outputs": [],
   "source": []
  }
 ],
 "metadata": {
  "kernelspec": {
   "display_name": "Python 3",
   "language": "python",
   "name": "python3"
  },
  "language_info": {
   "codemirror_mode": {
    "name": "ipython",
    "version": 3
   },
   "file_extension": ".py",
   "mimetype": "text/x-python",
   "name": "python",
   "nbconvert_exporter": "python",
   "pygments_lexer": "ipython3",
   "version": "3.5.1"
  }
 },
 "nbformat": 4,
 "nbformat_minor": 0
}
