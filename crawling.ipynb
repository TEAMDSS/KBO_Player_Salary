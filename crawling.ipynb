{
 "cells": [
  {
   "cell_type": "code",
   "execution_count": 1,
   "metadata": {
    "collapsed": true
   },
   "outputs": [],
   "source": [
    "# import package\n",
    "import pandas as pd\n",
    "import time\n",
    "import pickle\n",
    "from selenium import webdriver\n",
    "import glob\n",
    "import os\n",
    "import csv"
   ]
  },
  {
   "cell_type": "code",
   "execution_count": 23,
   "metadata": {
    "collapsed": true
   },
   "outputs": [],
   "source": [
    "api_delay_term = 30"
   ]
  },
  {
   "cell_type": "code",
   "execution_count": 3,
   "metadata": {
    "collapsed": true
   },
   "outputs": [],
   "source": [
    "def crawling_team_name():\n",
    "    url = \"http://www.koreabaseball.com/Record/Player/HitterBasic/Basic1.aspx\"\n",
    "    driver = webdriver.PhantomJS()\n",
    "    driver.get(url)\n",
    "    teams = driver.find_element_by_css_selector('#cphContainer_cphContents_ddlTeam_ddlTeam').\\\n",
    "            find_elements_by_css_selector('option')\n",
    "    team_df = pd.DataFrame(columns=[\n",
    "            'team_name'\n",
    "        ])\n",
    "    for team in teams:\n",
    "        tmp_dict = {\n",
    "            'team' : team.text\n",
    "        }\n",
    "        team_df.loc[len(team_df)] = tmp_dict\n",
    "    return team_df"
   ]
  },
  {
   "cell_type": "code",
   "execution_count": 4,
   "metadata": {
    "collapsed": false
   },
   "outputs": [],
   "source": [
    "# crawling_hitter_basic\n",
    "def crawling_hitter_basic(season_id, team_id):\n",
    "    \"\"\"\n",
    "    season_id = 0 ~ 34\n",
    "    team_id = 1 ~ 10\n",
    "    ------------------------------------------------------------------------------------\n",
    "    <season_id>\n",
    "    0 : 1982 ~ 34 : 2016\n",
    "    \n",
    "    <team_id>\n",
    "    1 : Nexen heroes\n",
    "    2 : Doosan\n",
    "    3 : Lotte\n",
    "    4 : Samsung\n",
    "    5 : Hanhwa\n",
    "    6 : KIA\n",
    "    7 : KT\n",
    "    8 : LG twins\n",
    "    9 : NC dinos\n",
    "    10 : SK wyberns\n",
    "    \"\"\"\n",
    "    \n",
    "    url = \"http://www.koreabaseball.com/Record/Player/HitterBasic/Basic1.aspx\"\n",
    "    driver = webdriver.PhantomJS()\n",
    "    driver.get(url)\n",
    "    \n",
    "    # click season\n",
    "    driver.find_element_by_css_selector('#cphContainer_cphContents_ddlSeason_ddlSeason').\\\n",
    "            find_elements_by_css_selector('option')[season_id].click()\n",
    "    time.sleep(api_delay_term)\n",
    "    # click team\n",
    "    driver.find_element_by_css_selector('#cphContainer_cphContents_ddlTeam_ddlTeam').\\\n",
    "            find_elements_by_css_selector('option')[team_id].click()\n",
    "    time.sleep(api_delay_term)\n",
    "    elements = driver.find_elements_by_css_selector(\".record_result tr\")\n",
    "    elements = elements[1:len(elements)+1]\n",
    "    \n",
    "    hitter_basic_df = pd.DataFrame(columns=[\n",
    "        'rank', 'name', 'team', 'avg', 'g', 'pa', 'ab', 'r', 'h', '2b',\n",
    "        '3b', 'hr', 'tb', 'rbi', 'sac', 'sf'\n",
    "    ])\n",
    "    \n",
    "    for element in elements:\n",
    "        tmp_dict  = {\n",
    "            'rank' : element.find_elements_by_css_selector('td')[0].text,\n",
    "            'name' : element.find_elements_by_css_selector('td')[1].text,\n",
    "            'team' : element.find_elements_by_css_selector('td')[2].text,\n",
    "            'avg' : element.find_elements_by_css_selector('td')[3].text,\n",
    "            'g' : element.find_elements_by_css_selector('td')[4].text,\n",
    "            'pa' : element.find_elements_by_css_selector('td')[5].text,\n",
    "            'ab' : element.find_elements_by_css_selector('td')[6].text,\n",
    "            'r' : element.find_elements_by_css_selector('td')[7].text,\n",
    "            'h' : element.find_elements_by_css_selector('td')[8].text,\n",
    "            '2b' : element.find_elements_by_css_selector('td')[9].text,\n",
    "            '3b' : element.find_elements_by_css_selector('td')[10].text,\n",
    "            'hr' : element.find_elements_by_css_selector('td')[11].text,\n",
    "            'tb' : element.find_elements_by_css_selector('td')[12].text,\n",
    "            'rbi' : element.find_elements_by_css_selector('td')[13].text,\n",
    "            'sac' : element.find_elements_by_css_selector('td')[14].text,\n",
    "            'sf' : element.find_elements_by_css_selector('td')[15].text,\n",
    "        }\n",
    "        hitter_basic_df.loc[len(hitter_basic_df)] = tmp_dict\n",
    "    return hitter_basic_df"
   ]
  },
  {
   "cell_type": "code",
   "execution_count": 5,
   "metadata": {
    "collapsed": true
   },
   "outputs": [],
   "source": [
    "# crawling_hitter_detail\n",
    "def crawling_hitter_detail(season_id, team_id):\n",
    "    \"\"\"\n",
    "    season_id = 0 ~ 34\n",
    "    team_id = 1 ~ 10\n",
    "    ------------------------------------------------------------------------------------\n",
    "    <season_id>\n",
    "    0 : 1982 ~ 34 : 2016\n",
    "    \n",
    "    <team_id>\n",
    "    1 : Nexen heroes\n",
    "    2 : Doosan\n",
    "    3 : Lotte\n",
    "    4 : Samsung\n",
    "    5 : Hanhwa\n",
    "    6 : KIA\n",
    "    7 : KT\n",
    "    8 : LG twins\n",
    "    9 : NC dinos\n",
    "    10 : SK wyberns\n",
    "    \"\"\"\n",
    "    \n",
    "    url = \"http://www.koreabaseball.com/Record/Player/HitterBasic/Detail1.aspx\"\n",
    "    driver = webdriver.PhantomJS()\n",
    "    driver.get(url)\n",
    "    \n",
    "    # click season\n",
    "    driver.find_element_by_css_selector('#cphContainer_cphContents_ddlSeason_ddlSeason').\\\n",
    "            find_elements_by_css_selector('option')[season_id].click()\n",
    "    time.sleep(api_delay_term)\n",
    "    # click team\n",
    "    driver.find_element_by_css_selector('#cphContainer_cphContents_ddlTeam_ddlTeam').\\\n",
    "            find_elements_by_css_selector('option')[team_id].click()\n",
    "    time.sleep(api_delay_term)\n",
    "    elements = driver.find_elements_by_css_selector(\".record_result tr\")\n",
    "    elements = elements[1:len(elements)+1]\n",
    "    \n",
    "    hitter_detail_df = pd.DataFrame(columns=[\n",
    "        'rank', 'name', 'team', 'avg', 'xbh', 'go', 'ao', 'go/ao', 'gw rbi',\n",
    "        'bb/k', 'p/pa', 'isop', 'xr', 'gpa'\n",
    "    ])\n",
    "    \n",
    "    for element in elements:\n",
    "        tmp_dict  = {\n",
    "            'rank' : element.find_elements_by_css_selector('td')[0].text,\n",
    "            'name' : element.find_elements_by_css_selector('td')[1].text,\n",
    "            'team' : element.find_elements_by_css_selector('td')[2].text,\n",
    "            'avg' : element.find_elements_by_css_selector('td')[3].text,\n",
    "            'xbh' : element.find_elements_by_css_selector('td')[4].text,\n",
    "            'go' : element.find_elements_by_css_selector('td')[5].text,\n",
    "            'ao' : element.find_elements_by_css_selector('td')[6].text,\n",
    "            'go/ao' : element.find_elements_by_css_selector('td')[7].text,\n",
    "            'gw rbi' : element.find_elements_by_css_selector('td')[8].text,\n",
    "            'bb/k' : element.find_elements_by_css_selector('td')[9].text,\n",
    "            'p/pa' : element.find_elements_by_css_selector('td')[10].text,\n",
    "            'isop' : element.find_elements_by_css_selector('td')[11].text,\n",
    "            'xr' : element.find_elements_by_css_selector('td')[12].text,\n",
    "            'gpa' : element.find_elements_by_css_selector('td')[13].text,\n",
    "        }\n",
    "        hitter_detail_df.loc[len(hitter_detail_df)] = tmp_dict\n",
    "    return hitter_detail_df"
   ]
  },
  {
   "cell_type": "code",
   "execution_count": 6,
   "metadata": {
    "collapsed": true
   },
   "outputs": [],
   "source": [
    "# crawling_pitcher_basic\n",
    "def crawling_pitcher_basic(season_id, team_id):\n",
    "    \"\"\"\n",
    "    season_id = 0 ~ 34\n",
    "    team_id = 1 ~ 10\n",
    "    ------------------------------------------------------------------------------------\n",
    "    <season_id>\n",
    "    0 : 1982 \n",
    "      :\n",
    "      :\n",
    "    34 : 2016\n",
    "    \n",
    "    <team_id>\n",
    "    1 : Nexen heroes\n",
    "    2 : Doosan\n",
    "    3 : Lotte\n",
    "    4 : Samsung\n",
    "    5 : Hanhwa\n",
    "    6 : KIA\n",
    "    7 : KT\n",
    "    8 : LG twins\n",
    "    9 : NC dinos\n",
    "    10 : SK wyberns\n",
    "    \"\"\"\n",
    "    \n",
    "    url = \"http://www.koreabaseball.com/Record/Player/PitcherBasic/Basic1.aspx\"\n",
    "    driver = webdriver.PhantomJS()\n",
    "    driver.get(url)\n",
    "    \n",
    "    # click season\n",
    "    driver.find_element_by_css_selector('#cphContainer_cphContents_ddlSeason_ddlSeason').\\\n",
    "            find_elements_by_css_selector('option')[season_id].click()\n",
    "    time.sleep(api_delay_term)\n",
    "    # click team\n",
    "    driver.find_element_by_css_selector('#cphContainer_cphContents_ddlTeam_ddlTeam').\\\n",
    "            find_elements_by_css_selector('option')[team_id].click()\n",
    "    time.sleep(api_delay_term)\n",
    "    elements = driver.find_elements_by_css_selector(\".record_result tr\")\n",
    "    elements = elements[1:len(elements)+1]\n",
    "    \n",
    "    pitcher_basic_df = pd.DataFrame(columns=[\n",
    "        'rank', 'name', 'team', 'avg', 'g', 'pa', 'ab', 'r', 'h', '2b',\n",
    "        '3b', 'hr', 'tb', 'rbi', 'sac', 'sf'\n",
    "    ])\n",
    "    \n",
    "    for element in elements:\n",
    "        tmp_dict  = {\n",
    "            'rank' : element.find_elements_by_css_selector('td')[0].text,\n",
    "            'name' : element.find_elements_by_css_selector('td')[1].text,\n",
    "            'team' : element.find_elements_by_css_selector('td')[2].text,\n",
    "            'avg' : element.find_elements_by_css_selector('td')[3].text,\n",
    "            'g' : element.find_elements_by_css_selector('td')[4].text,\n",
    "            'pa' : element.find_elements_by_css_selector('td')[5].text,\n",
    "            'ab' : element.find_elements_by_css_selector('td')[6].text,\n",
    "            'r' : element.find_elements_by_css_selector('td')[7].text,\n",
    "            'h' : element.find_elements_by_css_selector('td')[8].text,\n",
    "            '2b' : element.find_elements_by_css_selector('td')[9].text,\n",
    "            '3b' : element.find_elements_by_css_selector('td')[10].text,\n",
    "            'hr' : element.find_elements_by_css_selector('td')[11].text,\n",
    "            'tb' : element.find_elements_by_css_selector('td')[12].text,\n",
    "            'rbi' : element.find_elements_by_css_selector('td')[13].text,\n",
    "            'sac' : element.find_elements_by_css_selector('td')[14].text,\n",
    "            'sf' : element.find_elements_by_css_selector('td')[15].text,\n",
    "        }\n",
    "        pitcher_basic_df.loc[len(pitcher_basic_df)] = tmp_dict\n",
    "    return pitcher_basic_df"
   ]
  },
  {
   "cell_type": "code",
   "execution_count": 7,
   "metadata": {
    "collapsed": true
   },
   "outputs": [],
   "source": [
    "# Crawling players salary"
   ]
  },
  {
   "cell_type": "code",
   "execution_count": 11,
   "metadata": {
    "collapsed": false
   },
   "outputs": [],
   "source": [
    "url = \"http://www.koreabaseball.com/Record/Player/HitterBasic/Basic1.aspx\"\n",
    "driver = webdriver.PhantomJS()\n",
    "driver.get(url)\n",
    "driver.find_element_by_css_selector('#cphContainer_cphContents_ddlSeason_ddlSeason').\\\n",
    "            find_elements_by_css_selector('option')[33].click()\n",
    "time.sleep(api_delay_term)\n",
    "    # click team\n",
    "driver.find_element_by_css_selector('#cphContainer_cphContents_ddlTeam_ddlTeam').\\\n",
    "            find_elements_by_css_selector('option')[1].click()"
   ]
  },
  {
   "cell_type": "code",
   "execution_count": 12,
   "metadata": {
    "collapsed": false
   },
   "outputs": [],
   "source": [
    "elements = driver.find_elements_by_css_selector(\".record_result tr\")\n",
    "elements = elements[1:len(elements)+1]\n",
    "\n",
    "# for element in elements:\n",
    "player_url = elements[0].find_element_by_css_selector(\"a\").get_attribute(\"href\")\n",
    "    \n",
    "    \n",
    "    "
   ]
  },
  {
   "cell_type": "code",
   "execution_count": null,
   "metadata": {
    "collapsed": false
   },
   "outputs": [],
   "source": [
    "players_url"
   ]
  },
  {
   "cell_type": "code",
   "execution_count": 13,
   "metadata": {
    "collapsed": false
   },
   "outputs": [],
   "source": [
    "driver = webdriver.Firefox()\n",
    "driver.get(player_url)"
   ]
  },
  {
   "cell_type": "code",
   "execution_count": 14,
   "metadata": {
    "collapsed": true
   },
   "outputs": [],
   "source": [
    "player_info = driver.find_elements_by_css_selector(\".player_basic ul li\")"
   ]
  },
  {
   "cell_type": "code",
   "execution_count": 15,
   "metadata": {
    "collapsed": false
   },
   "outputs": [
    {
     "data": {
      "text/plain": [
       "'04현대'"
      ]
     },
     "execution_count": 15,
     "metadata": {},
     "output_type": "execute_result"
    }
   ],
   "source": [
    "player_info[9].text.split(\": \")[1]"
   ]
  },
  {
   "cell_type": "code",
   "execution_count": 16,
   "metadata": {
    "collapsed": false
   },
   "outputs": [
    {
     "data": {
      "text/plain": [
       "10"
      ]
     },
     "execution_count": 16,
     "metadata": {},
     "output_type": "execute_result"
    }
   ],
   "source": [
    "len(player_info)"
   ]
  },
  {
   "cell_type": "code",
   "execution_count": 21,
   "metadata": {
    "collapsed": false
   },
   "outputs": [],
   "source": [
    "def crawling_player_info(season_id, team_id):\n",
    "    \"\"\"\n",
    "    season_id = 0 ~ 34\n",
    "    team_id = 1 ~ 10\n",
    "    ------------------------------------------------------------------------------------\n",
    "    <season_id>\n",
    "    0 : 1982 \n",
    "      :\n",
    "      :\n",
    "    34 : 2016\n",
    "    \n",
    "    <team_id>\n",
    "    1 : Nexen heroes\n",
    "    2 : Doosan\n",
    "    3 : Lotte\n",
    "    4 : Samsung\n",
    "    5 : Hanhwa\n",
    "    6 : KIA\n",
    "    7 : KT\n",
    "    8 : LG twins\n",
    "    9 : NC dinos\n",
    "    10 : SK wyberns\n",
    "    \"\"\"\n",
    "    \n",
    "    # connect base_url\n",
    "    url = \"http://www.koreabaseball.com/Record/Player/HitterBasic/Basic1.aspx\"\n",
    "    driver = webdriver.PhantomJS()\n",
    "    driver.get(url)\n",
    "    \n",
    "    # click season\n",
    "    driver.find_element_by_css_selector('#cphContainer_cphContents_ddlSeason_ddlSeason').\\\n",
    "                find_elements_by_css_selector('option')[season_id].click()\n",
    "#     time.sleep(api_delay_term)\n",
    "    \n",
    "    # click team\n",
    "    driver.find_element_by_css_selector('#cphContainer_cphContents_ddlTeam_ddlTeam').\\\n",
    "                find_elements_by_css_selector('option')[team_id].click()\n",
    "    \n",
    "    # get players_url\n",
    "    elements = driver.find_elements_by_css_selector(\".record_result tr\")\n",
    "    elements = elements[1:len(elements)+1]\n",
    "    \n",
    "    for element in elements:\n",
    "        players_url = element.find_element_by_css_selector(\"a\").get_attribute(\"href\")\n",
    "#         driver.swi\n",
    "#        time.sleep(api_delay_term)\n",
    "        player_info = driver.find_elements_by_css_selector(\".player_basic ul li\")\n",
    "        player_info_df = pd.DataFrame(columns=[\n",
    "                    \"p_number\", \"name\", \"u_number\", \"birth\", \"position\", \"tall\",\n",
    "                    \"weight\", \"career\", \"contract\", \"salary\", \"rank_nomi\", \"entry_yr\"\n",
    "            ])\n",
    "        print(players_url)\n",
    "#         tmp_dict = {\n",
    "#                     \"p_number\" : players_url.split(\"=\")[1],\n",
    "#                     \"name\" : player_info[0].text.split(\": \")[1],\n",
    "#                     \"u_number\" : player_info[1].text.split(\": \")[1],\n",
    "#                     \"birth\" : player_info[2].text.split(\": \")[1],\n",
    "#                     \"position\" : player_info[3].text.split(\": \")[1],\n",
    "#                     \"tall\" : player_info[4].text.split(\": \")[1].split(\"/\")[0],\n",
    "#                     \"weight\" : player_info[4].text.split(\": \")[1].split(\"/\")[1],\n",
    "#                     \"career\" : player_info[5].text.split(\": \")[1],\n",
    "#                     \"contract\" : player_info[6].text.split(\": \")[1],\n",
    "#                     \"salary\" : player_info[7].text.split(\": \")[1],\n",
    "#                     \"rank_nomi\" : player_info[8].text.split(\": \")[1],\n",
    "#                     \"entry_yr\" : player_info[9].text.split(\": \")[1],\n",
    "#             }\n",
    "#         player_info_df.loc[len(player_info_df)] = tmp_dict\n",
    "#     return player_info_df"
   ]
  },
  {
   "cell_type": "code",
   "execution_count": 22,
   "metadata": {
    "collapsed": false
   },
   "outputs": [
    {
     "name": "stdout",
     "output_type": "stream",
     "text": [
      "http://www.koreabaseball.com/Record/Player/HitterDetail/Basic.aspx?playerId=72443\n",
      "http://www.koreabaseball.com/Record/Player/HitterDetail/Basic.aspx?playerId=76509\n",
      "http://www.koreabaseball.com/Record/Player/HitterDetail/Basic.aspx?playerId=64914\n",
      "http://www.koreabaseball.com/Record/Player/HitterDetail/Basic.aspx?playerId=74163\n",
      "http://www.koreabaseball.com/Record/Player/HitterDetail/Basic.aspx?playerId=65103\n",
      "http://www.koreabaseball.com/Record/Player/HitterDetail/Basic.aspx?playerId=62947\n",
      "http://www.koreabaseball.com/Record/Player/HitterDetail/Basic.aspx?playerId=78224\n",
      "http://www.koreabaseball.com/Record/Player/HitterDetail/Basic.aspx?playerId=76249\n",
      "http://www.koreabaseball.com/Record/Player/HitterDetail/Basic.aspx?playerId=70410\n",
      "http://www.koreabaseball.com/Record/Player/HitterDetail/Basic.aspx?playerId=79192\n",
      "http://www.koreabaseball.com/Record/Player/HitterDetail/Basic.aspx?playerId=72133\n"
     ]
    },
    {
     "ename": "StaleElementReferenceException",
     "evalue": "Message: {\"errorMessage\":\"Element does not exist in cache\",\"request\":{\"headers\":{\"Accept\":\"application/json\",\"Accept-Encoding\":\"identity\",\"Connection\":\"close\",\"Content-Length\":\"120\",\"Content-Type\":\"application/json;charset=UTF-8\",\"Host\":\"127.0.0.1:56149\",\"User-Agent\":\"Python-urllib/3.5\"},\"httpVersion\":\"1.1\",\"method\":\"POST\",\"post\":\"{\\\"value\\\": \\\"a\\\", \\\"sessionId\\\": \\\"04892f80-3f28-11e6-93ea-3745045b5126\\\", \\\"using\\\": \\\"css selector\\\", \\\"id\\\": \\\":wdc:1467335192419\\\"}\",\"url\":\"/element\",\"urlParsed\":{\"anchor\":\"\",\"query\":\"\",\"file\":\"element\",\"directory\":\"/\",\"path\":\"/element\",\"relative\":\"/element\",\"port\":\"\",\"host\":\"\",\"password\":\"\",\"user\":\"\",\"userInfo\":\"\",\"authority\":\"\",\"protocol\":\"\",\"source\":\"/element\",\"queryKey\":{},\"chunks\":[\"element\"]},\"urlOriginal\":\"/session/04892f80-3f28-11e6-93ea-3745045b5126/element/:wdc:1467335192419/element\"}}\nScreenshot: available via screen\n",
     "output_type": "error",
     "traceback": [
      "\u001b[1;31m---------------------------------------------------------------------------\u001b[0m",
      "\u001b[1;31mStaleElementReferenceException\u001b[0m            Traceback (most recent call last)",
      "\u001b[1;32m<ipython-input-22-c75f94705a9e>\u001b[0m in \u001b[0;36m<module>\u001b[1;34m()\u001b[0m\n\u001b[1;32m----> 1\u001b[1;33m \u001b[0mcrawling_player_info\u001b[0m\u001b[1;33m(\u001b[0m\u001b[1;36m33\u001b[0m\u001b[1;33m,\u001b[0m \u001b[1;36m1\u001b[0m\u001b[1;33m)\u001b[0m\u001b[1;33m\u001b[0m\u001b[0m\n\u001b[0m",
      "\u001b[1;32m<ipython-input-21-ead1df9da398>\u001b[0m in \u001b[0;36mcrawling_player_info\u001b[1;34m(season_id, team_id)\u001b[0m\n\u001b[0;32m     40\u001b[0m \u001b[1;33m\u001b[0m\u001b[0m\n\u001b[0;32m     41\u001b[0m     \u001b[1;32mfor\u001b[0m \u001b[0melement\u001b[0m \u001b[1;32min\u001b[0m \u001b[0melements\u001b[0m\u001b[1;33m:\u001b[0m\u001b[1;33m\u001b[0m\u001b[0m\n\u001b[1;32m---> 42\u001b[1;33m         \u001b[0mplayers_url\u001b[0m \u001b[1;33m=\u001b[0m \u001b[0melement\u001b[0m\u001b[1;33m.\u001b[0m\u001b[0mfind_element_by_css_selector\u001b[0m\u001b[1;33m(\u001b[0m\u001b[1;34m\"a\"\u001b[0m\u001b[1;33m)\u001b[0m\u001b[1;33m.\u001b[0m\u001b[0mget_attribute\u001b[0m\u001b[1;33m(\u001b[0m\u001b[1;34m\"href\"\u001b[0m\u001b[1;33m)\u001b[0m\u001b[1;33m\u001b[0m\u001b[0m\n\u001b[0m\u001b[0;32m     43\u001b[0m \u001b[1;31m#         driver.swi\u001b[0m\u001b[1;33m\u001b[0m\u001b[1;33m\u001b[0m\u001b[0m\n\u001b[0;32m     44\u001b[0m \u001b[1;31m#        time.sleep(api_delay_term)\u001b[0m\u001b[1;33m\u001b[0m\u001b[1;33m\u001b[0m\u001b[0m\n",
      "\u001b[1;32mc:\\users\\junhwan jang\\appdata\\local\\programs\\python\\python35\\lib\\site-packages\\selenium\\webdriver\\remote\\webelement.py\u001b[0m in \u001b[0;36mfind_element_by_css_selector\u001b[1;34m(self, css_selector)\u001b[0m\n\u001b[0;32m    280\u001b[0m             \u001b[1;33m-\u001b[0m \u001b[0mcss_selector\u001b[0m \u001b[1;33m-\u001b[0m \u001b[0mCSS\u001b[0m \u001b[0mselctor\u001b[0m \u001b[0mstring\u001b[0m\u001b[1;33m,\u001b[0m \u001b[0mex\u001b[0m\u001b[1;33m:\u001b[0m \u001b[1;34m'a.nav#home'\u001b[0m\u001b[1;33m\u001b[0m\u001b[0m\n\u001b[0;32m    281\u001b[0m         \"\"\"\n\u001b[1;32m--> 282\u001b[1;33m         \u001b[1;32mreturn\u001b[0m \u001b[0mself\u001b[0m\u001b[1;33m.\u001b[0m\u001b[0mfind_element\u001b[0m\u001b[1;33m(\u001b[0m\u001b[0mby\u001b[0m\u001b[1;33m=\u001b[0m\u001b[0mBy\u001b[0m\u001b[1;33m.\u001b[0m\u001b[0mCSS_SELECTOR\u001b[0m\u001b[1;33m,\u001b[0m \u001b[0mvalue\u001b[0m\u001b[1;33m=\u001b[0m\u001b[0mcss_selector\u001b[0m\u001b[1;33m)\u001b[0m\u001b[1;33m\u001b[0m\u001b[0m\n\u001b[0m\u001b[0;32m    283\u001b[0m \u001b[1;33m\u001b[0m\u001b[0m\n\u001b[0;32m    284\u001b[0m     \u001b[1;32mdef\u001b[0m \u001b[0mfind_elements_by_css_selector\u001b[0m\u001b[1;33m(\u001b[0m\u001b[0mself\u001b[0m\u001b[1;33m,\u001b[0m \u001b[0mcss_selector\u001b[0m\u001b[1;33m)\u001b[0m\u001b[1;33m:\u001b[0m\u001b[1;33m\u001b[0m\u001b[0m\n",
      "\u001b[1;32mc:\\users\\junhwan jang\\appdata\\local\\programs\\python\\python35\\lib\\site-packages\\selenium\\webdriver\\remote\\webelement.py\u001b[0m in \u001b[0;36mfind_element\u001b[1;34m(self, by, value)\u001b[0m\n\u001b[0;32m    475\u001b[0m \u001b[1;33m\u001b[0m\u001b[0m\n\u001b[0;32m    476\u001b[0m         return self._execute(Command.FIND_CHILD_ELEMENT,\n\u001b[1;32m--> 477\u001b[1;33m                              {\"using\": by, \"value\": value})['value']\n\u001b[0m\u001b[0;32m    478\u001b[0m \u001b[1;33m\u001b[0m\u001b[0m\n\u001b[0;32m    479\u001b[0m     \u001b[1;32mdef\u001b[0m \u001b[0mfind_elements\u001b[0m\u001b[1;33m(\u001b[0m\u001b[0mself\u001b[0m\u001b[1;33m,\u001b[0m \u001b[0mby\u001b[0m\u001b[1;33m=\u001b[0m\u001b[0mBy\u001b[0m\u001b[1;33m.\u001b[0m\u001b[0mID\u001b[0m\u001b[1;33m,\u001b[0m \u001b[0mvalue\u001b[0m\u001b[1;33m=\u001b[0m\u001b[1;32mNone\u001b[0m\u001b[1;33m)\u001b[0m\u001b[1;33m:\u001b[0m\u001b[1;33m\u001b[0m\u001b[0m\n",
      "\u001b[1;32mc:\\users\\junhwan jang\\appdata\\local\\programs\\python\\python35\\lib\\site-packages\\selenium\\webdriver\\remote\\webelement.py\u001b[0m in \u001b[0;36m_execute\u001b[1;34m(self, command, params)\u001b[0m\n\u001b[0;32m    455\u001b[0m             \u001b[0mparams\u001b[0m \u001b[1;33m=\u001b[0m \u001b[1;33m{\u001b[0m\u001b[1;33m}\u001b[0m\u001b[1;33m\u001b[0m\u001b[0m\n\u001b[0;32m    456\u001b[0m         \u001b[0mparams\u001b[0m\u001b[1;33m[\u001b[0m\u001b[1;34m'id'\u001b[0m\u001b[1;33m]\u001b[0m \u001b[1;33m=\u001b[0m \u001b[0mself\u001b[0m\u001b[1;33m.\u001b[0m\u001b[0m_id\u001b[0m\u001b[1;33m\u001b[0m\u001b[0m\n\u001b[1;32m--> 457\u001b[1;33m         \u001b[1;32mreturn\u001b[0m \u001b[0mself\u001b[0m\u001b[1;33m.\u001b[0m\u001b[0m_parent\u001b[0m\u001b[1;33m.\u001b[0m\u001b[0mexecute\u001b[0m\u001b[1;33m(\u001b[0m\u001b[0mcommand\u001b[0m\u001b[1;33m,\u001b[0m \u001b[0mparams\u001b[0m\u001b[1;33m)\u001b[0m\u001b[1;33m\u001b[0m\u001b[0m\n\u001b[0m\u001b[0;32m    458\u001b[0m \u001b[1;33m\u001b[0m\u001b[0m\n\u001b[0;32m    459\u001b[0m     \u001b[1;32mdef\u001b[0m \u001b[0mfind_element\u001b[0m\u001b[1;33m(\u001b[0m\u001b[0mself\u001b[0m\u001b[1;33m,\u001b[0m \u001b[0mby\u001b[0m\u001b[1;33m=\u001b[0m\u001b[0mBy\u001b[0m\u001b[1;33m.\u001b[0m\u001b[0mID\u001b[0m\u001b[1;33m,\u001b[0m \u001b[0mvalue\u001b[0m\u001b[1;33m=\u001b[0m\u001b[1;32mNone\u001b[0m\u001b[1;33m)\u001b[0m\u001b[1;33m:\u001b[0m\u001b[1;33m\u001b[0m\u001b[0m\n",
      "\u001b[1;32mc:\\users\\junhwan jang\\appdata\\local\\programs\\python\\python35\\lib\\site-packages\\selenium\\webdriver\\remote\\webdriver.py\u001b[0m in \u001b[0;36mexecute\u001b[1;34m(self, driver_command, params)\u001b[0m\n\u001b[0;32m    231\u001b[0m         \u001b[0mresponse\u001b[0m \u001b[1;33m=\u001b[0m \u001b[0mself\u001b[0m\u001b[1;33m.\u001b[0m\u001b[0mcommand_executor\u001b[0m\u001b[1;33m.\u001b[0m\u001b[0mexecute\u001b[0m\u001b[1;33m(\u001b[0m\u001b[0mdriver_command\u001b[0m\u001b[1;33m,\u001b[0m \u001b[0mparams\u001b[0m\u001b[1;33m)\u001b[0m\u001b[1;33m\u001b[0m\u001b[0m\n\u001b[0;32m    232\u001b[0m         \u001b[1;32mif\u001b[0m \u001b[0mresponse\u001b[0m\u001b[1;33m:\u001b[0m\u001b[1;33m\u001b[0m\u001b[0m\n\u001b[1;32m--> 233\u001b[1;33m             \u001b[0mself\u001b[0m\u001b[1;33m.\u001b[0m\u001b[0merror_handler\u001b[0m\u001b[1;33m.\u001b[0m\u001b[0mcheck_response\u001b[0m\u001b[1;33m(\u001b[0m\u001b[0mresponse\u001b[0m\u001b[1;33m)\u001b[0m\u001b[1;33m\u001b[0m\u001b[0m\n\u001b[0m\u001b[0;32m    234\u001b[0m             response['value'] = self._unwrap_value(\n\u001b[0;32m    235\u001b[0m                 response.get('value', None))\n",
      "\u001b[1;32mc:\\users\\junhwan jang\\appdata\\local\\programs\\python\\python35\\lib\\site-packages\\selenium\\webdriver\\remote\\errorhandler.py\u001b[0m in \u001b[0;36mcheck_response\u001b[1;34m(self, response)\u001b[0m\n\u001b[0;32m    192\u001b[0m         \u001b[1;32melif\u001b[0m \u001b[0mexception_class\u001b[0m \u001b[1;33m==\u001b[0m \u001b[0mUnexpectedAlertPresentException\u001b[0m \u001b[1;32mand\u001b[0m \u001b[1;34m'alert'\u001b[0m \u001b[1;32min\u001b[0m \u001b[0mvalue\u001b[0m\u001b[1;33m:\u001b[0m\u001b[1;33m\u001b[0m\u001b[0m\n\u001b[0;32m    193\u001b[0m             \u001b[1;32mraise\u001b[0m \u001b[0mexception_class\u001b[0m\u001b[1;33m(\u001b[0m\u001b[0mmessage\u001b[0m\u001b[1;33m,\u001b[0m \u001b[0mscreen\u001b[0m\u001b[1;33m,\u001b[0m \u001b[0mstacktrace\u001b[0m\u001b[1;33m,\u001b[0m \u001b[0mvalue\u001b[0m\u001b[1;33m[\u001b[0m\u001b[1;34m'alert'\u001b[0m\u001b[1;33m]\u001b[0m\u001b[1;33m.\u001b[0m\u001b[0mget\u001b[0m\u001b[1;33m(\u001b[0m\u001b[1;34m'text'\u001b[0m\u001b[1;33m)\u001b[0m\u001b[1;33m)\u001b[0m\u001b[1;33m\u001b[0m\u001b[0m\n\u001b[1;32m--> 194\u001b[1;33m         \u001b[1;32mraise\u001b[0m \u001b[0mexception_class\u001b[0m\u001b[1;33m(\u001b[0m\u001b[0mmessage\u001b[0m\u001b[1;33m,\u001b[0m \u001b[0mscreen\u001b[0m\u001b[1;33m,\u001b[0m \u001b[0mstacktrace\u001b[0m\u001b[1;33m)\u001b[0m\u001b[1;33m\u001b[0m\u001b[0m\n\u001b[0m\u001b[0;32m    195\u001b[0m \u001b[1;33m\u001b[0m\u001b[0m\n\u001b[0;32m    196\u001b[0m     \u001b[1;32mdef\u001b[0m \u001b[0m_value_or_default\u001b[0m\u001b[1;33m(\u001b[0m\u001b[0mself\u001b[0m\u001b[1;33m,\u001b[0m \u001b[0mobj\u001b[0m\u001b[1;33m,\u001b[0m \u001b[0mkey\u001b[0m\u001b[1;33m,\u001b[0m \u001b[0mdefault\u001b[0m\u001b[1;33m)\u001b[0m\u001b[1;33m:\u001b[0m\u001b[1;33m\u001b[0m\u001b[0m\n",
      "\u001b[1;31mStaleElementReferenceException\u001b[0m: Message: {\"errorMessage\":\"Element does not exist in cache\",\"request\":{\"headers\":{\"Accept\":\"application/json\",\"Accept-Encoding\":\"identity\",\"Connection\":\"close\",\"Content-Length\":\"120\",\"Content-Type\":\"application/json;charset=UTF-8\",\"Host\":\"127.0.0.1:56149\",\"User-Agent\":\"Python-urllib/3.5\"},\"httpVersion\":\"1.1\",\"method\":\"POST\",\"post\":\"{\\\"value\\\": \\\"a\\\", \\\"sessionId\\\": \\\"04892f80-3f28-11e6-93ea-3745045b5126\\\", \\\"using\\\": \\\"css selector\\\", \\\"id\\\": \\\":wdc:1467335192419\\\"}\",\"url\":\"/element\",\"urlParsed\":{\"anchor\":\"\",\"query\":\"\",\"file\":\"element\",\"directory\":\"/\",\"path\":\"/element\",\"relative\":\"/element\",\"port\":\"\",\"host\":\"\",\"password\":\"\",\"user\":\"\",\"userInfo\":\"\",\"authority\":\"\",\"protocol\":\"\",\"source\":\"/element\",\"queryKey\":{},\"chunks\":[\"element\"]},\"urlOriginal\":\"/session/04892f80-3f28-11e6-93ea-3745045b5126/element/:wdc:1467335192419/element\"}}\nScreenshot: available via screen\n"
     ]
    }
   ],
   "source": [
    "crawling_player_info(33, 1)"
   ]
  },
  {
   "cell_type": "code",
   "execution_count": null,
   "metadata": {
    "collapsed": false
   },
   "outputs": [],
   "source": [
    "driver.get(players_url)\n",
    "time.sleep(api_delay_term)\n",
    "player_info = driver.find_elements_by_css_selector(\".player_basic ul li\")\n",
    "player_info_df = pd.DataFrame(columns=[\n",
    "                    \"p_number\", \"name\", \"u_number\", \"birth\", \"position\", \"tall\",\n",
    "                    \"weight\", \"career\", \"contract\", \"salary\", \"rank_nomi\", \"entry_yr\"\n",
    "            ])\n",
    "tmp_dict = {\n",
    "                    \"p_number\" : players_url.split(\"=\")[1],\n",
    "                    \"name\" : player_info[0].text.split(\": \")[1],\n",
    "                    \"u_number\" : player_info[1].text.split(\": \")[1],\n",
    "                    \"birth\" : player_info[2].text.split(\": \")[1],\n",
    "                    \"position\" : player_info[3].text.split(\": \")[1],\n",
    "                    \"tall\" : player_info[4].text.split(\": \")[1].split(\"/\")[0],\n",
    "                    \"weight\" : player_info[4].text.split(\": \")[1].split(\"/\")[1],\n",
    "                    \"career\" : player_info[5].text.split(\": \")[1],\n",
    "                    \"contract\" : player_info[6].text.split(\": \")[1],\n",
    "                    \"salary\" : player_info[7].text.split(\": \")[1],\n",
    "                    \"rank_nomi\" : player_info[8].text.split(\": \")[1],\n",
    "                    \"entry_yr\" : player_info[9].text.split(\": \")[1],\n",
    "            }\n",
    "player_info_df.loc[len(player_info_df)] = tmp_dict"
   ]
  },
  {
   "cell_type": "code",
   "execution_count": null,
   "metadata": {
    "collapsed": false
   },
   "outputs": [],
   "source": [
    "player_info_df"
   ]
  },
  {
   "cell_type": "code",
   "execution_count": null,
   "metadata": {
    "collapsed": true
   },
   "outputs": [],
   "source": []
  }
 ],
 "metadata": {
  "kernelspec": {
   "display_name": "Python 3",
   "language": "python",
   "name": "python3"
  },
  "language_info": {
   "codemirror_mode": {
    "name": "ipython",
    "version": 3
   },
   "file_extension": ".py",
   "mimetype": "text/x-python",
   "name": "python",
   "nbconvert_exporter": "python",
   "pygments_lexer": "ipython3",
   "version": "3.5.1"
  }
 },
 "nbformat": 4,
 "nbformat_minor": 0
}
